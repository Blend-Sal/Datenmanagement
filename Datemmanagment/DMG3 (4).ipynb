{
 "cells": [
  {
   "cell_type": "markdown",
   "source": [
    "# Teil 1: Grundlagen der Clusteranalyse (Sample Size = 7)\n",
    ":\n",
    "# a. Erstellen Sie die paarweise Distanzmatrix über die Datenpunkte. Das Distanzmaß ist der\n",
    "# euklidische Abstand."
   ],
   "metadata": {
    "collapsed": false
   }
  },
  {
   "cell_type": "code",
   "execution_count": 1,
   "outputs": [
    {
     "data": {
      "text/plain": "array([[ 0.,  2., 12.,  7.,  6.,  4.,  9.],\n       [ 2.,  0., 12.,  8.,  6.,  6.,  9.],\n       [12., 12.,  0.,  6.,  6., 12.,  4.],\n       [ 7.,  8.,  6.,  0.,  3.,  6.,  2.],\n       [ 6.,  6.,  6.,  3.,  0.,  7.,  3.],\n       [ 4.,  6., 12.,  6.,  7.,  0.,  8.],\n       [ 9.,  9.,  4.,  2.,  3.,  8.,  0.]])"
     },
     "execution_count": 1,
     "metadata": {},
     "output_type": "execute_result"
    }
   ],
   "source": [
    "#import numpy\n",
    "#from sklearn.metrics import DistanceMetric\n",
    "\n",
    "#dist = DistanceMetric.get_metric('euclidean')\n",
    "#data = numpy.array([[1, 7], [0, 9], [12, 12], [8, 8], [6, 10], [3, 4], [9, 10]])\n",
    "#print(\"Distanzmatrix:\")\n",
    "#dist.pairwise(data)\n",
    "\n",
    "import numpy as numpy\n",
    "from sklearn.metrics.pairwise import pairwise_distances\n",
    "import pandas as pd\n",
    "data = pd.DataFrame({\"x\": [1,0,12,8,6,3,9],\"y\": [7,9,12,8,10,4,10] }, columns=[\"x\", \"y\"])\n",
    "dist = numpy.round(pairwise_distances(data, metric=\"euclidean\"))\n",
    "dist"
   ],
   "metadata": {
    "collapsed": false,
    "ExecuteTime": {
     "start_time": "2023-06-07T11:22:32.585186Z",
     "end_time": "2023-06-07T11:22:33.011495Z"
    }
   }
  },
  {
   "cell_type": "markdown",
   "source": [
    "# b. Führen Sie ein agglomeratives Clustering mit Single Linkage, Complete Linkage und Centroid\n",
    "# Linkage durch und erstellen Sie jeweils das vollständige Dendogram. Vergleichen Sie die\n",
    "# Unterschiede bei der Clusterbildung. Welches ist für Sie die optimale Anzahl an Clustern?\n",
    "# Begründen Sie Ihre Antwort."
   ],
   "metadata": {
    "collapsed": false
   }
  },
  {
   "cell_type": "code",
   "execution_count": 2,
   "outputs": [
    {
     "data": {
      "text/plain": "<Figure size 432x288 with 1 Axes>",
      "image/png": "[encoded data removed]"
     },
     "metadata": {
      "needs_background": "light"
     },
     "output_type": "display_data"
    },
    {
     "data": {
      "text/plain": "<Figure size 1440x288 with 4 Axes>",
      "image/png": "[encoded data removed]"
     },
     "metadata": {
      "needs_background": "light"
     },
     "output_type": "display_data"
    }
   ],
   "source": [
    "import matplotlib.pyplot as pl\n",
    "%matplotlib inline\n",
    "\n",
    "from scipy.cluster.hierarchy import dendrogram, linkage\n",
    "\n",
    "pl.scatter([1,0,12,8,6,3,9],[7,9,12,8,10,4,10])\n",
    "linkage_methods = [\"single\", \"complete\", \"average\", \"centroid\"]\n",
    "\n",
    "f, axs = pl.subplots(ncols=4, figsize=(20, 4))\n",
    "for i in range(0, 4):\n",
    "    res = linkage(data, linkage_methods[i]) # execute agglomerative clustering\n",
    "    axs[i].set_title(linkage_methods[i] + \" linkage\")\n",
    "    dn = dendrogram(res, ax=axs[i], labels=range(1,len(data)+1)) # visualize dendrogram"
   ],
   "metadata": {
    "collapsed": false,
    "ExecuteTime": {
     "start_time": "2023-06-07T11:22:33.010898Z",
     "end_time": "2023-06-07T11:22:34.220514Z"
    }
   }
  },
  {
   "cell_type": "markdown",
   "source": [
    "Unserer Meinung nach sind 2 Cluster für diesen Datensatz optimal (Intuitive Entscheidung).\n",
    "-> Eine Kette und ein Oval"
   ],
   "metadata": {
    "collapsed": false
   }
  },
  {
   "cell_type": "code",
   "execution_count": 3,
   "outputs": [
    {
     "ename": "TypeError",
     "evalue": "__init__() got an unexpected keyword argument 'metric'",
     "output_type": "error",
     "traceback": [
      "\u001B[1;31m---------------------------------------------------------------------------\u001B[0m",
      "\u001B[1;31mTypeError\u001B[0m                                 Traceback (most recent call last)",
      "Input \u001B[1;32mIn [3]\u001B[0m, in \u001B[0;36m<cell line: 11>\u001B[1;34m()\u001B[0m\n\u001B[0;32m     13\u001B[0m f, axs \u001B[38;5;241m=\u001B[39m pl\u001B[38;5;241m.\u001B[39msubplots(ncols\u001B[38;5;241m=\u001B[39mn\u001B[38;5;241m-\u001B[39m\u001B[38;5;241m1\u001B[39m, figsize\u001B[38;5;241m=\u001B[39m(\u001B[38;5;241m20\u001B[39m, \u001B[38;5;241m4\u001B[39m), sharey\u001B[38;5;241m=\u001B[39m\u001B[38;5;28;01mTrue\u001B[39;00m)\n\u001B[0;32m     14\u001B[0m \u001B[38;5;28;01mfor\u001B[39;00m i \u001B[38;5;129;01min\u001B[39;00m \u001B[38;5;28mrange\u001B[39m(n, \u001B[38;5;241m1\u001B[39m, \u001B[38;5;241m-\u001B[39m\u001B[38;5;241m1\u001B[39m):\n\u001B[1;32m---> 15\u001B[0m     df \u001B[38;5;241m=\u001B[39m \u001B[43magglomerative_clustering\u001B[49m\u001B[43m(\u001B[49m\u001B[43mdata\u001B[49m\u001B[43m,\u001B[49m\u001B[43m \u001B[49m\u001B[43mi\u001B[49m\u001B[43m,\u001B[49m\u001B[43m \u001B[49m\u001B[43mlinkage\u001B[49m\u001B[43m)\u001B[49m\n\u001B[0;32m     16\u001B[0m     axs[n\u001B[38;5;241m-\u001B[39mi]\u001B[38;5;241m.\u001B[39mscatter(df\u001B[38;5;241m.\u001B[39mx, df\u001B[38;5;241m.\u001B[39my, c\u001B[38;5;241m=\u001B[39mdf\u001B[38;5;241m.\u001B[39mCluster, cmap\u001B[38;5;241m=\u001B[39m\u001B[38;5;124m'\u001B[39m\u001B[38;5;124mDark2\u001B[39m\u001B[38;5;124m'\u001B[39m, s\u001B[38;5;241m=\u001B[39m\u001B[38;5;241m200\u001B[39m)\n\u001B[0;32m     17\u001B[0m     axs[n\u001B[38;5;241m-\u001B[39mi]\u001B[38;5;241m.\u001B[39mset_title(\u001B[38;5;28mstr\u001B[39m(i) \u001B[38;5;241m+\u001B[39m \u001B[38;5;124m\"\u001B[39m\u001B[38;5;124m clusters\u001B[39m\u001B[38;5;124m\"\u001B[39m \u001B[38;5;241m+\u001B[39m \u001B[38;5;124mf\u001B[39m\u001B[38;5;124m\"\u001B[39m\u001B[38;5;124m (\u001B[39m\u001B[38;5;132;01m{\u001B[39;00mlinkage\u001B[38;5;132;01m}\u001B[39;00m\u001B[38;5;124m)\u001B[39m\u001B[38;5;124m\"\u001B[39m)\n",
      "Input \u001B[1;32mIn [3]\u001B[0m, in \u001B[0;36magglomerative_clustering\u001B[1;34m(X, c, linkage)\u001B[0m\n\u001B[0;32m      4\u001B[0m \u001B[38;5;28;01mdef\u001B[39;00m \u001B[38;5;21magglomerative_clustering\u001B[39m(X, c, linkage):\n\u001B[1;32m----> 5\u001B[0m     ac \u001B[38;5;241m=\u001B[39m \u001B[43mAgglomerativeClustering\u001B[49m\u001B[43m(\u001B[49m\u001B[43mn_clusters\u001B[49m\u001B[43m \u001B[49m\u001B[38;5;241;43m=\u001B[39;49m\u001B[43m \u001B[49m\u001B[43mc\u001B[49m\u001B[43m,\u001B[49m\u001B[43m \u001B[49m\u001B[43mmetric\u001B[49m\u001B[43m \u001B[49m\u001B[38;5;241;43m=\u001B[39;49m\u001B[43m \u001B[49m\u001B[38;5;124;43m\"\u001B[39;49m\u001B[38;5;124;43meuclidean\u001B[39;49m\u001B[38;5;124;43m\"\u001B[39;49m\u001B[43m,\u001B[49m\u001B[43m \u001B[49m\u001B[43mlinkage\u001B[49m\u001B[43m \u001B[49m\u001B[38;5;241;43m=\u001B[39;49m\u001B[43m \u001B[49m\u001B[43mlinkage\u001B[49m\u001B[43m)\u001B[49m\n\u001B[0;32m      6\u001B[0m     assignment \u001B[38;5;241m=\u001B[39m ac\u001B[38;5;241m.\u001B[39mfit_predict(X)\n\u001B[0;32m      7\u001B[0m     df \u001B[38;5;241m=\u001B[39m pd\u001B[38;5;241m.\u001B[39mconcat([pd\u001B[38;5;241m.\u001B[39mDataFrame(X, columns\u001B[38;5;241m=\u001B[39m[\u001B[38;5;124m\"\u001B[39m\u001B[38;5;124mx\u001B[39m\u001B[38;5;124m\"\u001B[39m, \u001B[38;5;124m\"\u001B[39m\u001B[38;5;124my\u001B[39m\u001B[38;5;124m\"\u001B[39m]), pd\u001B[38;5;241m.\u001B[39mDataFrame({\u001B[38;5;124m\"\u001B[39m\u001B[38;5;124mCluster\u001B[39m\u001B[38;5;124m\"\u001B[39m: assignment})], axis\u001B[38;5;241m=\u001B[39m\u001B[38;5;241m1\u001B[39m)\n",
      "\u001B[1;31mTypeError\u001B[0m: __init__() got an unexpected keyword argument 'metric'"
     ]
    },
    {
     "data": {
      "text/plain": "<Figure size 1440x288 with 6 Axes>",
      "image/png": "[encoded data removed]"
     },
     "metadata": {
      "needs_background": "light"
     },
     "output_type": "display_data"
    }
   ],
   "source": [
    "from sklearn.cluster import AgglomerativeClustering\n",
    "import pandas as pd\n",
    "\n",
    "def agglomerative_clustering(X, c, linkage):\n",
    "    ac = AgglomerativeClustering(n_clusters = c, metric = \"euclidean\", linkage = linkage)\n",
    "    assignment = ac.fit_predict(X)\n",
    "    df = pd.concat([pd.DataFrame(X, columns=[\"x\", \"y\"]), pd.DataFrame({\"Cluster\": assignment})], axis=1)\n",
    "    return df\n",
    "\n",
    "linkage_methods = [\"single\", \"complete\", \"average\"]\n",
    "for linkage in linkage_methods:\n",
    "    n = len(data)\n",
    "    f, axs = pl.subplots(ncols=n-1, figsize=(20, 4), sharey=True)\n",
    "    for i in range(n, 1, -1):\n",
    "        df = agglomerative_clustering(data, i, linkage)\n",
    "        axs[n-i].scatter(df.x, df.y, c=df.Cluster, cmap='Dark2', s=200)\n",
    "        axs[n-i].set_title(str(i) + \" clusters\" + f\" ({linkage})\")"
   ],
   "metadata": {
    "collapsed": false,
    "ExecuteTime": {
     "start_time": "2023-06-06T20:44:17.246010Z",
     "end_time": "2023-06-06T20:44:20.608034Z"
    }
   }
  },
  {
   "cell_type": "markdown",
   "source": [
    "Überraschend clustern die drei Methoden single, complete und average linkage gleich.\n",
    "Es lassen sich jedoch in den Dendogrammen unterschiedliche Distanzen ablesen, nachdem sie die Datenpunkte clusterten."
   ],
   "metadata": {
    "collapsed": false
   }
  },
  {
   "cell_type": "markdown",
   "source": [
    "# c. Führen Sie ein Clustering mittels DBSCAN durch. Stellen Sie eps und MinPts des DBSCAN so\n",
    "# ein, dass zwei Cluster entstehen. Welche Punkte sind dann Grenzinstanzen, Kerninstanzen\n",
    "# und Geräuschinstanzen?"
   ],
   "metadata": {
    "collapsed": false
   }
  },
  {
   "cell_type": "code",
   "execution_count": null,
   "outputs": [],
   "source": [
    "from sklearn.cluster import DBSCAN\n",
    "\n",
    "dbscan = DBSCAN(eps=4, min_samples=3)\n",
    "labels = dbscan.fit_predict(data)\n",
    "print(\"DBSCAN-Labels:\", labels)\n",
    "\n",
    "core_samples_mask = numpy.zeros_like(dbscan.labels_, dtype=bool)\n",
    "core_samples_mask[dbscan.core_sample_indices_] = True\n",
    "\n",
    "core_instances = data[core_samples_mask]\n",
    "border_instances = data[numpy.logical_and(~core_samples_mask, labels != -1)]\n",
    "noise_instances = data[labels == -1]\n",
    "\n",
    "print(\"Kerninstanzen:\\n\", core_instances)\n",
    "print(\"Grenzinstanzen:\\n\", border_instances)\n",
    "print(\"Geräuschinstanzen:\", noise_instances)\n",
    "\n",
    "print(f\"Anzahl Cluster: {len(numpy.unique(dbscan.labels_))}\")\n",
    "print(f\"Anzahl Kerninstanzen {len(dbscan.components_)}\")"
   ],
   "metadata": {
    "collapsed": false,
    "ExecuteTime": {
     "start_time": "2023-06-06T20:44:20.608034Z",
     "end_time": "2023-06-06T20:44:20.749869Z"
    }
   }
  },
  {
   "cell_type": "markdown",
   "source": [
    "# d. Erstellen Sie eine Heatmap (mittels seaborn.heatmap) der Ähnlichkeitsmatrix unter\n",
    "# Berücksichtigung des ermittelten Clusterings (i.e. ordnen Sie die Punkte mit Bezug zu den\n",
    "# Clustern) und interpretieren Sie anhand dessen die Güte des Clusterings."
   ],
   "metadata": {
    "collapsed": false
   }
  },
  {
   "cell_type": "code",
   "execution_count": null,
   "outputs": [],
   "source": [
    "import seaborn as sns; sns.set_theme()\n",
    "data2 = pd.DataFrame({\"x\": [1,0,3,8,6,12,9],\"y\": [7,9,4,8,10,12,10] }, columns=[\"x\", \"y\"]) #Neuordnung der Datenpunkte nach Clustern 1 und 2\n",
    "dist2 = numpy.round(pairwise_distances(data2, metric=\"euclidean\"))\n",
    "ax = sns.heatmap(dist2)"
   ],
   "metadata": {
    "collapsed": false,
    "ExecuteTime": {
     "start_time": "2023-06-06T20:44:20.623623Z",
     "end_time": "2023-06-06T20:44:20.943687Z"
    }
   }
  },
  {
   "cell_type": "markdown",
   "source": [
    "Hohe Güte, weil die Distanzen innerhalb der Cluster gering und außerhalb der Cluster hoch ist"
   ],
   "metadata": {
    "collapsed": false
   }
  },
  {
   "cell_type": "markdown",
   "source": [
    "# Teil 2: Partitionierende Clusteranalyse und Klassifikationsbäume (Sample Size = 1000)"
   ],
   "metadata": {
    "collapsed": false
   }
  },
  {
   "cell_type": "code",
   "execution_count": null,
   "outputs": [],
   "source": [
    "from matplotlib import pyplot as plt\n",
    "from sklearn.datasets import make_blobs\n",
    "import seaborn as sns\n",
    "from seaborn import pairplot\n",
    "\n",
    "X, Y = make_blobs(n_samples=1000, n_features=5, centers=4, cluster_std=3, random_state=5)\n",
    "\n",
    "data = pd.DataFrame()\n",
    "data['Merkmal 1'] = X[:, 0]\n",
    "data['Merkmal 2'] = X[:, 1]\n",
    "data['Merkmal 3'] = X[:, 2]\n",
    "data['Merkmal 4'] = X[:, 3]\n",
    "data['Merkmal 5'] = X[:, 4]\n",
    "data['Klasse'] = Y\n",
    "\n",
    "pairplot(data, hue=\"Klasse\")"
   ],
   "metadata": {
    "collapsed": false,
    "ExecuteTime": {
     "start_time": "2023-06-06T20:44:20.943687Z",
     "end_time": "2023-06-06T20:44:30.573799Z"
    }
   }
  },
  {
   "cell_type": "markdown",
   "source": [
    "# - Partitionierendes Clustering -"
   ],
   "metadata": {
    "collapsed": false
   }
  },
  {
   "cell_type": "markdown",
   "source": [
    "# k-Means Clustering"
   ],
   "metadata": {
    "collapsed": false
   }
  },
  {
   "cell_type": "code",
   "execution_count": null,
   "outputs": [],
   "source": [],
   "metadata": {
    "collapsed": false,
    "ExecuteTime": {
     "start_time": "2023-06-06T20:44:30.573799Z",
     "end_time": "2023-06-06T20:44:30.589780Z"
    }
   }
  },
  {
   "cell_type": "code",
   "execution_count": null,
   "outputs": [],
   "source": [
    "from sklearn.cluster import KMeans\n",
    "#k-Means Clustering für k = 4\n",
    "kmeans = KMeans(n_clusters=4, random_state=5, n_init='auto')\n",
    "kmeans.fit(X)\n",
    "y_kmeans = kmeans.predict(X)"
   ],
   "metadata": {
    "collapsed": false,
    "ExecuteTime": {
     "start_time": "2023-06-06T20:44:30.589780Z",
     "end_time": "2023-06-06T20:44:30.982961Z"
    }
   }
  },
  {
   "cell_type": "code",
   "execution_count": null,
   "outputs": [],
   "source": [
    "# Heatmap der Konfusionsmatrix und Genauigkeit des Clusterings\n",
    "from sklearn.metrics import confusion_matrix, accuracy_score, f1_score, recall_score, precision_score\n",
    "\n",
    "cm = confusion_matrix(Y, y_kmeans)\n",
    "sns.heatmap(cm, annot=True, cmap='Blues', fmt='.0f')\n",
    "plt.xlabel('Vorhergesagtes Cluster')\n",
    "plt.ylabel('Wahre Clusternummer')\n",
    "plt.show()\n",
    "print(f\"Genauigkeit: {accuracy_score(Y, y_kmeans)}\")"
   ],
   "metadata": {
    "collapsed": false,
    "ExecuteTime": {
     "start_time": "2023-06-06T20:44:30.605847Z",
     "end_time": "2023-06-06T20:44:30.982961Z"
    }
   }
  },
  {
   "cell_type": "markdown",
   "source": [
    "Interpretation:\n",
    "Accuracy von 0.007 passt zur Konfusionsmatrix. Es werden nämlich zum größten Teil die falschen Cluster vorhergesagt.\n",
    "Wäre das Clustering gut, sähe man eine Diagonale beginnend von oben links.\n",
    "Die schlechten Vorhersagen könnten daran liegen, dass Clustering überlicherweise ein\n",
    "unüberwachtes Lernen ist, hier aber mit den wahren Klassennummern verglichen wird."
   ],
   "metadata": {
    "collapsed": false
   }
  },
  {
   "cell_type": "markdown",
   "source": [
    "# - Klassifikationsbaum -"
   ],
   "metadata": {
    "collapsed": false
   }
  },
  {
   "cell_type": "code",
   "execution_count": null,
   "outputs": [],
   "source": [
    "#Einteilen in 80% Trainingsdaten und 20% Testdaten\n",
    "from sklearn.model_selection import train_test_split\n",
    "X_train, X_test, y_train, y_test = train_test_split(X, Y, random_state=5, test_size=0.2, train_size=0.8)"
   ],
   "metadata": {
    "collapsed": false,
    "ExecuteTime": {
     "start_time": "2023-06-06T20:44:30.888799Z",
     "end_time": "2023-06-06T20:44:30.982961Z"
    }
   }
  },
  {
   "cell_type": "code",
   "execution_count": null,
   "outputs": [],
   "source": [
    "from sklearn.tree import DecisionTreeClassifier, plot_tree\n",
    "plt.figure(figsize=(10.0, 10.0))\n",
    "clf = DecisionTreeClassifier(criterion=\"gini\", random_state=5, min_impurity_decrease=0.05)\n",
    "clf = clf.fit(X_train, y_train)\n",
    "plot_tree(clf, filled=True)"
   ],
   "metadata": {
    "collapsed": false,
    "ExecuteTime": {
     "start_time": "2023-06-06T20:44:30.904425Z",
     "end_time": "2023-06-06T20:44:31.429330Z"
    }
   }
  },
  {
   "cell_type": "markdown",
   "source": [
    "Interpretation:\n",
    "In unserem Datensatz gibt es vier Klassen. Jedes Element hat fünf Merkmale. Insgesamt gibt es 800 Elemente. Es gibt jeweils fast 200 Elemente pro Klasse.\n",
    "Als Erstes wird entschieden, ob das Merkmale x[3] <= 0.193 ist. Wenn nicht, dann wird nach links gegangen und geprüft, ob das Merkmal x[4] <= -0.785. Wenn das nicht der Fall ist, dann wird das Element in das grüne Blatt eingeordnet, sonst in das hellblaue. Falls x[3] > 0.193 ist, wird in den braunen Ast gegangen und geprüft, on x[1] <= 2.584. Wenn das nicht der Fall ist, dann wird das Element in den rosa Blatt eingeordnet, sonst in den orangen."
   ],
   "metadata": {
    "collapsed": false
   }
  },
  {
   "cell_type": "code",
   "execution_count": null,
   "outputs": [],
   "source": [
    "from sklearn.metrics import recall_score, precision_score, f1_score\n",
    "\n",
    "pred = clf.predict(X_test)\n",
    "c_matrix = confusion_matrix(y_true=y_test, y_pred=pred)\n",
    "sns.heatmap(c_matrix, annot=True, fmt=\"0.0f\")\n",
    "plt.xlabel(\"Vorhergesagte Klasse\")\n",
    "plt.ylabel(\"Wahre Klasse\")\n",
    "print(f\"Genauigkeit: {accuracy_score(y_true=y_test, y_pred=pred)}\")"
   ],
   "metadata": {
    "collapsed": false,
    "ExecuteTime": {
     "start_time": "2023-06-06T20:44:31.429330Z",
     "end_time": "2023-06-06T20:44:31.870770Z"
    }
   }
  },
  {
   "cell_type": "markdown",
   "source": [
    "Beobachtung:\n",
    "Guter Klassifikationsbaum, da die wahren Klassen sehr konsistent auch vorhergesagt werden.\n",
    "-> Diagonale in der Konfusionsmatrix"
   ],
   "metadata": {
    "collapsed": false
   }
  },
  {
   "cell_type": "code",
   "execution_count": null,
   "outputs": [],
   "source": [
    "from sklearn.tree import DecisionTreeClassifier\n",
    "from sklearn.metrics import accuracy_score\n",
    "\n",
    "min_samples_leaf_values = [200, 100, 50, 25, 12, 6, 2]\n",
    "accuracy_scores_test = []\n",
    "accuracy_scores_train = []\n",
    "\n",
    "for min_samples_leaf in min_samples_leaf_values:\n",
    "    decision_tree_clf = DecisionTreeClassifier(criterion=\"gini\", min_impurity_decrease=0.05, min_samples_leaf=min_samples_leaf)\n",
    "    decision_tree_clf.fit(X_train, y_train)\n",
    "\n",
    "    y_predict_test = decision_tree_clf.predict(X_test)\n",
    "    y_predict_train = decision_tree_clf.predict(X_train)\n",
    "\n",
    "    accuracy_scores_test.append(accuracy_score(y_test, y_predict_test))\n",
    "    accuracy_scores_train.append(accuracy_score(y_train, y_predict_train))\n",
    "\n",
    "sns.set(rc={\"figure.figsize\":(15, 6)})\n",
    "sns.set(font_scale=1.4)\n",
    "line_plot = sns.lineplot(x=min_samples_leaf_values, y=accuracy_scores_test)\n",
    "line_plot = sns.lineplot(x=min_samples_leaf_values, y=accuracy_scores_train)\n",
    "plt.legend(labels=[\"accuracy train\",\"accuracy test\"])\n",
    "line_plot.set(xlabel = \"min samples leaf\", ylabel = \"accuracy\")\n"
   ],
   "metadata": {
    "collapsed": false,
    "ExecuteTime": {
     "start_time": "2023-06-06T20:44:31.761128Z",
     "end_time": "2023-06-06T20:44:32.164990Z"
    }
   }
  },
  {
   "cell_type": "markdown",
   "source": [
    "Die x-Achse zeigt verschiedene Werte von min_samples_leaf, während die y-Achse die Vorhersagegenauigkeit darstellt. Es gibt zwei Linien im Diagramm: Trainings- und Testgenauigkeit.\n",
    "\n",
    "Man kann erkennen, dass kein Overfitting stattfindet, da die Trainingsgenauigkeit (\"accuracy train\") fast genauso hoch ist wie die Testgenauigkeit (\"accuracy test\") und trotz zunehmender Samples die beiden Linien keinen großen Abstand aufweisen."
   ],
   "metadata": {
    "collapsed": false
   }
  },
  {
   "cell_type": "markdown",
   "source": [
    "# - Random-Forest-Klassifikator -"
   ],
   "metadata": {
    "collapsed": false
   }
  },
  {
   "cell_type": "code",
   "source": [
    "#Training eines Random-Forest-Klassifikators (20 Bäume)\n",
    "from sklearn.ensemble import RandomForestClassifier\n",
    "\n",
    "random_forest_clf = RandomForestClassifier(n_estimators=20, random_state=5)\n",
    "random_forest_clf = random_forest_clf.fit(X_train, y_train)\n",
    "y_pred_random_forest = random_forest_clf.predict(X_test)"
   ],
   "metadata": {
    "collapsed": false,
    "ExecuteTime": {
     "end_time": "2024-11-29T00:19:59.307496Z",
     "start_time": "2024-11-29T00:19:59.292425Z"
    }
   },
   "outputs": [
    {
     "ename": "ModuleNotFoundError",
     "evalue": "No module named 'sklearn'",
     "output_type": "error",
     "traceback": [
      "\u001B[1;31m---------------------------------------------------------------------------\u001B[0m",
      "\u001B[1;31mModuleNotFoundError\u001B[0m                       Traceback (most recent call last)",
      "Cell \u001B[1;32mIn[1], line 2\u001B[0m\n\u001B[0;32m      1\u001B[0m \u001B[38;5;66;03m#Training eines Random-Forest-Klassifikators (20 Bäume)\u001B[39;00m\n\u001B[1;32m----> 2\u001B[0m \u001B[38;5;28;01mfrom\u001B[39;00m \u001B[38;5;21;01msklearn\u001B[39;00m\u001B[38;5;21;01m.\u001B[39;00m\u001B[38;5;21;01mensemble\u001B[39;00m \u001B[38;5;28;01mimport\u001B[39;00m RandomForestClassifier\n\u001B[0;32m      4\u001B[0m random_forest_clf \u001B[38;5;241m=\u001B[39m RandomForestClassifier(n_estimators\u001B[38;5;241m=\u001B[39m\u001B[38;5;241m20\u001B[39m, random_state\u001B[38;5;241m=\u001B[39m\u001B[38;5;241m5\u001B[39m)\n\u001B[0;32m      5\u001B[0m random_forest_clf \u001B[38;5;241m=\u001B[39m random_forest_clf\u001B[38;5;241m.\u001B[39mfit(X_train, y_train)\n",
      "\u001B[1;31mModuleNotFoundError\u001B[0m: No module named 'sklearn'"
     ]
    }
   ],
   "execution_count": 1
  },
  {
   "cell_type": "code",
   "execution_count": null,
   "outputs": [],
   "source": [
    "#Konfusionsmatrix\n",
    "c_matrix_rf = confusion_matrix(y_true=y_test, y_pred=y_pred_random_forest)\n",
    "sns.heatmap(c_matrix_rf, annot=True, fmt=\"0.0f\")\n",
    "plt.xlabel(\"Vorhergesagte Klasse\")\n",
    "plt.ylabel(\"Wahre Klasse\")\n",
    "print(f\"Genauigkeit: {accuracy_score(y_test, y_pred_random_forest)}\")"
   ],
   "metadata": {
    "collapsed": false,
    "ExecuteTime": {
     "start_time": "2023-06-06T20:44:32.228426Z",
     "end_time": "2023-06-06T20:44:32.616377Z"
    }
   }
  },
  {
   "cell_type": "markdown",
   "source": [
    "Der Random Forest ist genauer, als das k-means - Verfahren aus der vorherigen Aufgabe, weil es ein Ensemble-Modell ist und nicht ein Clustering-Algorithmus, wie das k-means - Verfahren. Somit ist es robuster gegenüber Rauschen und Overfitting.\n",
    "\n",
    "Er ist auch genauer als der alleinige Entscheidungsbaum, da er die Vorhersagen von mehreren Bäumen kombiniert. Durch die Stärken von anderen Bäumen können die Schwächen eines einzelnen Baumes ausgeglichen werden."
   ],
   "metadata": {
    "collapsed": false
   }
  },
  {
   "cell_type": "code",
   "execution_count": null,
   "outputs": [],
   "source": [
    "#Bericht der Klassifikation\n",
    "from sklearn.metrics import classification_report\n",
    "print(classification_report(y_true=y_test, y_pred=y_pred_random_forest))\n"
   ],
   "metadata": {
    "collapsed": false,
    "ExecuteTime": {
     "start_time": "2023-06-06T20:44:32.596101Z",
     "end_time": "2023-06-06T20:44:32.667425Z"
    }
   }
  },
  {
   "cell_type": "markdown",
   "source": [
    "Precision: Anteil der korrekt vorhergesagten positiven Instanzen unter allen vorhergesagten positiven Instanzen.\n",
    "Recall: Anteil der korrekt vorhergesagten positiven Instanzen unter allen tatsächlich positiven Instanzen.\n",
    "F1-Score: Einzelne Metrik, die Precision und Recall kombiniert, um die Klassifikationsleistung zu bewerten.\n",
    "Support: Anzahl der Instanzen in jeder Klasse im Testdatensatz.\n",
    "Accuracy: Anzahl der richtig klassifizierten Datenpunkten\n",
    "macro avg: Durchschnittliche Metrik über alle Klassen, wobei jede Klasse gleich gewichtet wird.\n",
    "weighted avg: Durchschnittliche Metrik über alle Klassen, wobei jede Klasse proportional zu ihrem Support gewichtet wird."
   ],
   "metadata": {
    "collapsed": false
   }
  }
 ],
 "metadata": {
  "kernelspec": {
   "display_name": "Python 3",
   "language": "python",
   "name": "python3"
  },
  "language_info": {
   "codemirror_mode": {
    "name": "ipython",
    "version": 2
   },
   "file_extension": ".py",
   "mimetype": "text/x-python",
   "name": "python",
   "nbconvert_exporter": "python",
   "pygments_lexer": "ipython2",
   "version": "2.7.6"
  }
 },
 "nbformat": 4,
 "nbformat_minor": 0
}
