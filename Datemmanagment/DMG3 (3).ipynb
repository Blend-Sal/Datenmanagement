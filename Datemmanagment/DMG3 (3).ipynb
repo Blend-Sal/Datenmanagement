{
 "cells": [
  {
   "cell_type": "code",
   "execution_count": 1,
   "metadata": {
    "collapsed": false,
    "jupyter": {
     "outputs_hidden": false
    }
   },
   "outputs": [],
   "source": [
    "from pyspark.sql import SparkSession\n",
    "import pyspark.sql.functions as F\n",
    "\n",
    "spark = SparkSession.builder.getOrCreate()"
   ]
  },
  {
   "cell_type": "code",
   "execution_count": 2,
   "metadata": {
    "collapsed": false,
    "jupyter": {
     "outputs_hidden": false
    }
   },
   "outputs": [
    {
     "data": {
      "text/html": "\n            <div>\n                <p><b>SparkSession - hive</b></p>\n                \n        <div>\n            <p><b>SparkContext</b></p>\n\n            <p><a href=\"http://cluster-dmg-m.europe-west1-b.c.dmg-praktikum2.internal:45069\">Spark UI</a></p>\n\n            <dl>\n              <dt>Version</dt>\n                <dd><code>v3.1.2</code></dd>\n              <dt>Master</dt>\n                <dd><code>yarn</code></dd>\n              <dt>AppName</dt>\n                <dd><code>PySparkShell</code></dd>\n            </dl>\n        </div>\n        \n            </div>\n        ",
      "text/plain": "<pyspark.sql.session.SparkSession at 0x7f21d7e1a700>"
     },
     "execution_count": 2,
     "metadata": {},
     "output_type": "execute_result"
    }
   ],
   "source": [
    "spark"
   ]
  },
  {
   "cell_type": "markdown",
   "metadata": {},
   "source": [
    " ##  *1. Wie viele Kunden-Datensätze gibt es in der Datei iw_customer.txt? Zeige die ersten 5 Kunden.* "
   ]
  },
  {
   "cell_type": "code",
   "execution_count": 3,
   "metadata": {},
   "outputs": [
    {
     "name": "stderr",
     "output_type": "stream",
     "text": "                                                                                \r"
    },
    {
     "data": {
      "text/plain": "247065"
     },
     "execution_count": 3,
     "metadata": {},
     "output_type": "execute_result"
    }
   ],
   "source": [
    "df=spark.read.csv(\"gs://dataproc-staging-europe-west1-908939104126-4c7em3li/data/webshop/iw_customer.txt\", sep=\"\\t\", header=True) \n",
    "df.count()"
   ]
  },
  {
   "cell_type": "code",
   "execution_count": 4,
   "metadata": {},
   "outputs": [
    {
     "name": "stdout",
     "output_type": "stream",
     "text": "+-----+----------+----------+---------+-------+--------+-----------+-------------+-------------+----------+--------------------+--------+------+-----------+\n|owner|customerNo|salutation|firstname|surname|postcode|       city|       street|        eMail|newsletter|           birthdate|  riskID|credit|creditLimit|\n+-----+----------+----------+---------+-------+--------+-----------+-------------+-------------+----------+--------------------+--------+------+-----------+\n|   IW| KNR000001|      Frau|    Abcde|Hijklmn|   65232|Taunusstein|Opqrst-Street|mail@mail.com|         1|1968-01-07 00:00:...|69918055|   400|          1|\n|   IW| KNR000002|      Frau|    Abcde|Hijklmn|   26904|     Börger|Opqrst-Street|mail@mail.com|         0|1978-10-10 00:00:...|92843675|  1000|          1|\n|   IW| KNR000003|      Frau|    Abcde|Hijklmn|   78333|   Stockach|Opqrst-Street|mail@mail.com|         1|1967-04-29 00:00:...|11272894|     0|          2|\n|   IW| KNR000011|      Frau|    Abcde|Hijklmn|   79618|Rheinfelden|Opqrst-Street|mail@mail.com|         1|1974-10-21 00:00:...|86364865|   400|          1|\n|   IW| KNR000020|      Frau|    Abcde|Hijklmn|   64625|   Bensheim|Opqrst-Street|mail@mail.com|         1|1969-03-23 00:00:...|79987284|   500|          1|\n+-----+----------+----------+---------+-------+--------+-----------+-------------+-------------+----------+--------------------+--------+------+-----------+\nonly showing top 5 rows\n\n"
    }
   ],
   "source": [
    "df.show(5)"
   ]
  },
  {
   "cell_type": "markdown",
   "metadata": {},
   "source": [
    "## 2. Entfernen Sie folgende Attribute aus dem DataFrame: 'owner', 'firstname', 'lastname','street', 'eMail'."
   ]
  },
  {
   "cell_type": "code",
   "execution_count": 5,
   "metadata": {
    "collapsed": false,
    "jupyter": {
     "outputs_hidden": false
    }
   },
   "outputs": [
    {
     "name": "stdout",
     "output_type": "stream",
     "text": "+----------+----------+--------+--------------------+----------+--------------------+--------+------+-----------+\n|customerNo|salutation|postcode|                city|newsletter|           birthdate|  riskID|credit|creditLimit|\n+----------+----------+--------+--------------------+----------+--------------------+--------+------+-----------+\n| KNR000001|      Frau|   65232|         Taunusstein|         1|1968-01-07 00:00:...|69918055|   400|          1|\n| KNR000002|      Frau|   26904|              Börger|         0|1978-10-10 00:00:...|92843675|  1000|          1|\n| KNR000003|      Frau|   78333|            Stockach|         1|1967-04-29 00:00:...|11272894|     0|          2|\n| KNR000011|      Frau|   79618|         Rheinfelden|         1|1974-10-21 00:00:...|86364865|   400|          1|\n| KNR000020|      Frau|   64625|            Bensheim|         1|1969-03-23 00:00:...|79987284|   500|          1|\n| KNR000022|      Herr|   45138|               Essen|         1|1957-06-04 00:00:...|87651195|   400|          1|\n| KNR000023|      Frau|   31812|         Bad Pyrmont|         1|1967-01-27 00:00:...|87159767|   500|          1|\n| KNR000030|      Frau|   83278|          Traunstein|         1|1972-06-10 00:00:...|58129094|   500|          1|\n| KNR000031|      Frau|   88682|               Salem|         1|1970-10-27 00:00:...|14537394|   600|          1|\n| KNR000032|      Frau|   78050|Villingen-Schwenn...|         1|1966-05-04 00:00:...|67866584|   700|          1|\n| KNR000033|      Frau|   52457|          Aldenhoven|         1|1963-01-15 00:00:...|40407377|   500|          1|\n| KNR000040|      Frau|   21465|             Wentorf|         1|1962-04-03 00:00:...|90161105|   700|          1|\n| KNR000041|      Frau|   76863|            Herxheim|         1|1986-08-02 00:00:...|22841395|   400|          1|\n| KNR000042|      Frau|   80798|             München|         1|1980-01-23 00:00:...|52225546|   500|          1|\n| KNR000043|      Frau|   06800|      Raguhn-Jeßnitz|         1|1970-07-21 00:00:...|49694197|   400|          1|\n| KNR000050|      Frau|   86899|           Landsberg|         1|1969-02-17 00:00:...|78422194|  1500|          1|\n| KNR000051|      Frau|   14169|              Berlin|         0|1967-11-18 00:00:...|86667206|   500|          1|\n| KNR000071|      Frau|   48529|            Nordhorn|         1|1978-11-28 00:00:...|21486995|   400|          1|\n| KNR000072|      Frau|   49393|               Lohne|         1|1960-04-10 00:00:...|34621255|   600|          1|\n| KNR000080|      Frau|   50670|                Köln|         0|1976-05-20 00:00:...|39198435|   400|          1|\n+----------+----------+--------+--------------------+----------+--------------------+--------+------+-----------+\nonly showing top 20 rows\n\n"
    }
   ],
   "source": [
    "df = df.drop('owner', 'firstname', 'surname','street', 'eMail')\n",
    "df.show()"
   ]
  },
  {
   "cell_type": "markdown",
   "metadata": {},
   "source": [
    "## *3. Entfernen Sie alle Kunden, die vor 1900 geboren worden sind, aus dem DataFrame.*"
   ]
  },
  {
   "cell_type": "code",
   "execution_count": 6,
   "metadata": {},
   "outputs": [
    {
     "name": "stderr",
     "output_type": "stream",
     "text": "                                                                                \r"
    },
    {
     "data": {
      "text/plain": "247021"
     },
     "execution_count": 6,
     "metadata": {},
     "output_type": "execute_result"
    }
   ],
   "source": [
    "df2 = df.where(df.birthdate[0:4] >= '1900')\n",
    "df2.count()"
   ]
  },
  {
   "cell_type": "code",
   "execution_count": 7,
   "metadata": {},
   "outputs": [
    {
     "name": "stderr",
     "output_type": "stream",
     "text": "[Stage 12:=============================>                            (2 + 2) / 4]\r"
    },
    {
     "name": "stdout",
     "output_type": "stream",
     "text": "Es sind 44 Kunden vor 1900 geboren.\n"
    },
    {
     "name": "stderr",
     "output_type": "stream",
     "text": "                                                                                \r"
    }
   ],
   "source": [
    "print(\"Es sind\", df.count() - df2.count(), \"Kunden vor 1900 geboren.\") "
   ]
  },
  {
   "cell_type": "markdown",
   "metadata": {},
   "source": [
    "##  4. Nennen Sie das Attribut 'birthdate' in 'birthyear' um und speichern Sie entsprechend nur noch das Geburtsjahr im DataFrame."
   ]
  },
  {
   "cell_type": "code",
   "execution_count": 8,
   "metadata": {
    "collapsed": false,
    "jupyter": {
     "outputs_hidden": false
    }
   },
   "outputs": [
    {
     "name": "stdout",
     "output_type": "stream",
     "text": "+----------+----------+--------+--------------------+----------+---------+--------+------+-----------+\n|customerNo|salutation|postcode|                city|newsletter|birthyear|  riskID|credit|creditLimit|\n+----------+----------+--------+--------------------+----------+---------+--------+------+-----------+\n| KNR000001|      Frau|   65232|         Taunusstein|         1|     1968|69918055|   400|          1|\n| KNR000002|      Frau|   26904|              Börger|         0|     1978|92843675|  1000|          1|\n| KNR000003|      Frau|   78333|            Stockach|         1|     1967|11272894|     0|          2|\n| KNR000011|      Frau|   79618|         Rheinfelden|         1|     1974|86364865|   400|          1|\n| KNR000020|      Frau|   64625|            Bensheim|         1|     1969|79987284|   500|          1|\n| KNR000022|      Herr|   45138|               Essen|         1|     1957|87651195|   400|          1|\n| KNR000023|      Frau|   31812|         Bad Pyrmont|         1|     1967|87159767|   500|          1|\n| KNR000030|      Frau|   83278|          Traunstein|         1|     1972|58129094|   500|          1|\n| KNR000031|      Frau|   88682|               Salem|         1|     1970|14537394|   600|          1|\n| KNR000032|      Frau|   78050|Villingen-Schwenn...|         1|     1966|67866584|   700|          1|\n| KNR000033|      Frau|   52457|          Aldenhoven|         1|     1963|40407377|   500|          1|\n| KNR000040|      Frau|   21465|             Wentorf|         1|     1962|90161105|   700|          1|\n| KNR000041|      Frau|   76863|            Herxheim|         1|     1986|22841395|   400|          1|\n| KNR000042|      Frau|   80798|             München|         1|     1980|52225546|   500|          1|\n| KNR000043|      Frau|   06800|      Raguhn-Jeßnitz|         1|     1970|49694197|   400|          1|\n| KNR000050|      Frau|   86899|           Landsberg|         1|     1969|78422194|  1500|          1|\n| KNR000051|      Frau|   14169|              Berlin|         0|     1967|86667206|   500|          1|\n| KNR000071|      Frau|   48529|            Nordhorn|         1|     1978|21486995|   400|          1|\n| KNR000072|      Frau|   49393|               Lohne|         1|     1960|34621255|   600|          1|\n| KNR000080|      Frau|   50670|                Köln|         0|     1976|39198435|   400|          1|\n+----------+----------+--------+--------------------+----------+---------+--------+------+-----------+\nonly showing top 20 rows\n\n"
    }
   ],
   "source": [
    "df = df.withColumnRenamed(\"birthdate\", \"birthyear\")\n",
    "df = df.withColumn(\"birthyear\", df[\"birthyear\"].substr(1, 4))\n",
    "df.show()"
   ]
  },
  {
   "cell_type": "markdown",
   "metadata": {},
   "source": [
    "## *5. Ersetzen Sie im Attribut 'salutation' alle Werte 'Frau' durch 'weiblich' sowie 'Herr' durch'männlich' und nennen Sie das Attribut in 'gender' um.*"
   ]
  },
  {
   "cell_type": "code",
   "execution_count": 9,
   "metadata": {},
   "outputs": [],
   "source": [
    "df = df.withColumnRenamed('salutation', 'gender')"
   ]
  },
  {
   "cell_type": "code",
   "execution_count": 10,
   "metadata": {},
   "outputs": [
    {
     "name": "stdout",
     "output_type": "stream",
     "text": "+--------+\n|  gender|\n+--------+\n|weiblich|\n|weiblich|\n|weiblich|\n|weiblich|\n|weiblich|\n|männlich|\n|weiblich|\n|weiblich|\n|weiblich|\n|weiblich|\n|weiblich|\n|weiblich|\n|weiblich|\n|weiblich|\n|weiblich|\n|weiblich|\n|weiblich|\n|weiblich|\n|weiblich|\n|weiblich|\n+--------+\nonly showing top 20 rows\n\n"
    }
   ],
   "source": [
    "from pyspark.sql.functions import regexp_replace\n",
    "df = df.withColumn(\"gender\", regexp_replace(\"gender\", \"Frau\", \"weiblich\"))\n",
    "df = df.withColumn(\"gender\", regexp_replace(\"gender\", \"Herr\", \"männlich\"))  \n",
    "df.select(\"gender\").show()"
   ]
  },
  {
   "cell_type": "markdown",
   "metadata": {},
   "source": [
    "## 6. Ergänzen Sie das Dataframe durch ein Attribut 'state', in dem das Bundesland zur PLZ gespeichert sein soll. Die Bundesländer entnehmen Sie bitte aus der Datei plz_mapping.txt."
   ]
  },
  {
   "cell_type": "code",
   "execution_count": 11,
   "metadata": {
    "collapsed": false,
    "jupyter": {
     "outputs_hidden": false
    }
   },
   "outputs": [
    {
     "name": "stdout",
     "output_type": "stream",
     "text": "+-----+-------+-------+-----+\n|  PLZ|  state|  Kreis|  Typ|\n+-----+-------+-------+-----+\n|01067|Sachsen|Dresden|Stadt|\n|01069|Sachsen|Dresden|Stadt|\n|01097|Sachsen|Dresden|Stadt|\n|01099|Sachsen|Dresden|Stadt|\n|01108|Sachsen|Dresden|Stadt|\n|01109|Sachsen|Dresden|Stadt|\n|01127|Sachsen|Dresden|Stadt|\n|01129|Sachsen|Dresden|Stadt|\n|01139|Sachsen|Dresden|Stadt|\n|01156|Sachsen|Dresden|Stadt|\n|01157|Sachsen|Dresden|Stadt|\n|01159|Sachsen|Dresden|Stadt|\n|01169|Sachsen|Dresden|Stadt|\n|01187|Sachsen|Dresden|Stadt|\n|01189|Sachsen|Dresden|Stadt|\n|01217|Sachsen|Dresden|Stadt|\n|01219|Sachsen|Dresden|Stadt|\n|01237|Sachsen|Dresden|Stadt|\n|01239|Sachsen|Dresden|Stadt|\n|01257|Sachsen|Dresden|Stadt|\n+-----+-------+-------+-----+\nonly showing top 20 rows\n\n"
    }
   ],
   "source": [
    "df_map = spark.read.csv(\"gs://dataproc-staging-europe-west1-908939104126-4c7em3li/data/webshop/plz_mapping.txt\", sep=\"\\t\", header=True)\n",
    "df_map = df_map.withColumnRenamed('Bundesland','state')\n",
    "df_map.show()"
   ]
  },
  {
   "cell_type": "code",
   "execution_count": 12,
   "metadata": {
    "collapsed": false,
    "jupyter": {
     "outputs_hidden": false
    }
   },
   "outputs": [
    {
     "name": "stdout",
     "output_type": "stream",
     "text": "+--------+----------+--------+--------------------+----------+---------+--------+------+-----------+-------------------+\n|postcode|customerNo|  gender|                city|newsletter|birthyear|  riskID|credit|creditLimit|              state|\n+--------+----------+--------+--------------------+----------+---------+--------+------+-----------+-------------------+\n|   65232| KNR000001|weiblich|         Taunusstein|         1|     1968|69918055|   400|          1|             Hessen|\n|   26904| KNR000002|weiblich|              Börger|         0|     1978|92843675|  1000|          1|      Niedersachsen|\n|   78333| KNR000003|weiblich|            Stockach|         1|     1967|11272894|     0|          2|  Baden-Württemberg|\n|   79618| KNR000011|weiblich|         Rheinfelden|         1|     1974|86364865|   400|          1|  Baden-Württemberg|\n|   64625| KNR000020|weiblich|            Bensheim|         1|     1969|79987284|   500|          1|             Hessen|\n|   45138| KNR000022|männlich|               Essen|         1|     1957|87651195|   400|          1|Nordrhein-Westfalen|\n|   31812| KNR000023|weiblich|         Bad Pyrmont|         1|     1967|87159767|   500|          1|      Niedersachsen|\n|   83278| KNR000030|weiblich|          Traunstein|         1|     1972|58129094|   500|          1|             Bayern|\n|   88682| KNR000031|weiblich|               Salem|         1|     1970|14537394|   600|          1|  Baden-Württemberg|\n|   78050| KNR000032|weiblich|Villingen-Schwenn...|         1|     1966|67866584|   700|          1|  Baden-Württemberg|\n|   52457| KNR000033|weiblich|          Aldenhoven|         1|     1963|40407377|   500|          1|Nordrhein-Westfalen|\n|   21465| KNR000040|weiblich|             Wentorf|         1|     1962|90161105|   700|          1| Schleswig-Holstein|\n|   76863| KNR000041|weiblich|            Herxheim|         1|     1986|22841395|   400|          1|    Rheinland-Pfalz|\n|   80798| KNR000042|weiblich|             München|         1|     1980|52225546|   500|          1|             Bayern|\n|   06800| KNR000043|weiblich|      Raguhn-Jeßnitz|         1|     1970|49694197|   400|          1|     Sachsen-Anhalt|\n|   86899| KNR000050|weiblich|           Landsberg|         1|     1969|78422194|  1500|          1|             Bayern|\n|   14169| KNR000051|weiblich|              Berlin|         0|     1967|86667206|   500|          1|             Berlin|\n|   48529| KNR000071|weiblich|            Nordhorn|         1|     1978|21486995|   400|          1|      Niedersachsen|\n|   49393| KNR000072|weiblich|               Lohne|         1|     1960|34621255|   600|          1|      Niedersachsen|\n|   50670| KNR000080|weiblich|                Köln|         0|     1976|39198435|   400|          1|Nordrhein-Westfalen|\n+--------+----------+--------+--------------------+----------+---------+--------+------+-----------+-------------------+\nonly showing top 20 rows\n\n"
    }
   ],
   "source": [
    "df_map = df_map.drop('Kreis','Typ')\n",
    "df_map = df_map.withColumnRenamed('PLZ','postcode')\n",
    "df = df.join(df_map,'postcode','left')\n",
    "df.show()"
   ]
  },
  {
   "cell_type": "markdown",
   "metadata": {},
   "source": [
    "## 7. Persistieren Sie das bisher konstruierte DataFrame als Tabelle 'customers'. Die Tabelle wird per Default im Hive-Metastore unter /user/hive/warehouse/customers abgelegt."
   ]
  },
  {
   "cell_type": "code",
   "execution_count": 13,
   "metadata": {},
   "outputs": [],
   "source": [
    "#df.write.csv(\"/user/hive/warehouse/customers/customers.csv\")"
   ]
  },
  {
   "cell_type": "markdown",
   "metadata": {},
   "source": [
    "### 8. Leider wird in dem Webshop i.d.R. als Gast ohne Kundenkonto bestellt. Daher existieren viele Kunden-Dupletten. Alle Datensätze mit gleichem Wert im Attribut 'riskId' sollen als ein eindeutiger Kunde in einem neuen DataFrame 'uniqueCustomers' zusammengeführt werden. Das DataFrame 'uniqueCustomers' soll als Tabelle persistiert und für die Beantwortung der noch folgenden Punkte verwendet werden."
   ]
  },
  {
   "cell_type": "code",
   "execution_count": 28,
   "metadata": {
    "collapsed": false,
    "jupyter": {
     "outputs_hidden": false
    }
   },
   "outputs": [
    {
     "name": "stderr",
     "output_type": "stream",
     "text": "[Stage 155:============================>                            (1 + 1) / 2]\r"
    },
    {
     "name": "stdout",
     "output_type": "stream",
     "text": "Es gibt  139388 Duplikate, und somit  107677 viele Kunden\n"
    },
    {
     "name": "stderr",
     "output_type": "stream",
     "text": "                                                                                \r"
    }
   ],
   "source": [
    "uniqueCustomers = df.dropDuplicates(['riskID'])\n",
    "print(\"Es gibt \",df.count() - uniqueCustomers.count(),\"Duplikate, und somit \", uniqueCustomers.count(), \"viele Kunden\")"
   ]
  },
  {
   "cell_type": "code",
   "execution_count": 15,
   "metadata": {
    "collapsed": false,
    "jupyter": {
     "outputs_hidden": false
    }
   },
   "outputs": [],
   "source": [
    "#uniqueCustomers.write.csv(\"/user/hive/warehouse/customers/uniqueCustomers.csv\")"
   ]
  },
  {
   "cell_type": "markdown",
   "metadata": {},
   "source": [
    "## 9. Erstellen Sie ein Kreisdiagramm, dass die Verteilung der Kunden je Geschlecht visualisiert."
   ]
  },
  {
   "cell_type": "code",
   "execution_count": 16,
   "metadata": {},
   "outputs": [
    {
     "name": "stderr",
     "output_type": "stream",
     "text": "                                                                                \r"
    }
   ],
   "source": [
    "# importing pyplot from matplotlib\n",
    "# matplotlib is a 2D Python plotting library\n",
    "\n",
    "from matplotlib import pyplot as pp \n",
    "#df_grouped = df.groupBy([\"gender\"]).count().show()\n",
    "#df_grouped.show()\n",
    "women = uniqueCustomers.filter(\"gender == 'weiblich'\").count()\n",
    "men = uniqueCustomers.filter(\"gender == 'männlich'\").count()\n"
   ]
  },
  {
   "cell_type": "code",
   "execution_count": 17,
   "metadata": {},
   "outputs": [
    {
     "data": {
      "image/png": "[encoded data removed]",
      "text/plain": "<Figure size 432x288 with 1 Axes>"
     },
     "metadata": {},
     "output_type": "display_data"
    }
   ],
   "source": [
    "\n",
    "slices  = [women, men]\n",
    "labels  = [\"weiblich\", \"männlich\"]\n",
    "colors  = [\"#ff0066\", \"#0066ff\"]\n",
    "explode = [0, 0.1]\n",
    "\n",
    "\n",
    "pp.pie(slices, labels=labels, colors=colors,explode=explode, shadow=True, startangle=90,\n",
    "       autopct=\"%1.1f%%\", wedgeprops={\"edgecolor\":\"black\"})\n",
    "\n",
    "pp.title(\"the distribution of customers by gender\")\n",
    "pp.legend(loc=\"upper left\")\n",
    "pp.tight_layout()\n",
    "pp.show()"
   ]
  },
  {
   "cell_type": "markdown",
   "metadata": {},
   "source": [
    "## 10. Erstellen Sie ein Balkendiagramm, dass die Verteilung der Kunden je Bundesland und je Geschlecht visualisiert. Die Verteilung soll absteigend sortiert nach Häufigkeit der Kunden je Bundesland sein."
   ]
  },
  {
   "cell_type": "code",
   "execution_count": 18,
   "metadata": {
    "collapsed": false,
    "jupyter": {
     "outputs_hidden": false
    }
   },
   "outputs": [
    {
     "name": "stderr",
     "output_type": "stream",
     "text": "                                                                                \r"
    },
    {
     "name": "stdout",
     "output_type": "stream",
     "text": "                     state  Anzahl Frauen  Anzahl Männer\n12     Nordrhein-Westfalen          18479           5178\n10                  Bayern          15998           4057\n13       Baden-Württemberg          13199           3166\n3                   Hessen           8106           1854\n1            Niedersachsen           7743           1986\n2          Rheinland-Pfalz           4216           1024\n11                  Berlin           3075           1370\n0       Schleswig-Holstein           3181            755\n14                 Hamburg           2798            749\n5                  Sachsen           2275            634\n15               Thüringen           1310            380\n4           Sachsen-Anhalt           1223            372\n7              Brandenburg           1144            290\n8   Mecklenburg-Vorpommern           1075            270\n9                   Bremen            605            187\n6                 Saarland            596            151\n"
    },
    {
     "data": {
      "text/plain": "<AxesSubplot:title={'center':'Kunden pro Bundesland'}, xlabel='state'>"
     },
     "execution_count": 18,
     "metadata": {},
     "output_type": "execute_result"
    },
    {
     "data": {
      "image/png": "[encoded data removed]",
      "text/plain": "<Figure size 432x288 with 1 Axes>"
     },
     "metadata": {
      "needs_background": "light"
     },
     "output_type": "display_data"
    }
   ],
   "source": [
    "import matplotlib.pyplot as plt\n",
    "import pandas as pd\n",
    "from pyspark.sql.functions import col\n",
    "\n",
    "uniqueCustomers = uniqueCustomers.dropna(how='any')\n",
    "\n",
    "grouped = uniqueCustomers.groupby('state','gender').count()\n",
    "\n",
    "women = grouped.select('count','state').filter(\"gender == 'weiblich'\")\n",
    "men = grouped.select('count','state').filter(\"gender == 'männlich'\")\n",
    "\n",
    "women = women.withColumnRenamed('count','Anzahl Frauen')\n",
    "men = men.withColumnRenamed('count','Anzahl Männer')\n",
    "\n",
    "\n",
    "df_all = women.join(men, 'state', 'right')\n",
    "df_all = df_all.withColumn(\"Summe\", col(\"Anzahl Frauen\")+col(\"Anzahl Männer\"))\n",
    "\n",
    "df_pandas = df_all.toPandas()\n",
    "df_pandas = df_pandas.sort_values(by=['Summe'], ascending=False)\n",
    "df_pandas = df_pandas.drop(columns=['Summe'])\n",
    "print(df_pandas)\n",
    "\n",
    "\n",
    "df_pandas.plot.bar(x='state', stacked=True, title='Kunden pro Bundesland')"
   ]
  },
  {
   "cell_type": "markdown",
   "metadata": {},
   "source": [
    "## 11. Lesen Sie die Umsätze (iw_sales.txt) und Retouren (return_line.txt) für weitere dispositive Fragestellungen ein."
   ]
  },
  {
   "cell_type": "code",
   "execution_count": 19,
   "metadata": {},
   "outputs": [],
   "source": [
    "df_s =spark.read.csv(\"gs://dataproc-staging-europe-west1-908939104126-4c7em3li/data/webshop/iw_sales.txt\", sep=\"\\t\", header=True) \n",
    "df_r =spark.read.csv(\"gs://dataproc-staging-europe-west1-908939104126-4c7em3li/data/webshop/iw_return_line.txt\", sep=\"\\t\", header=True) "
   ]
  },
  {
   "cell_type": "code",
   "execution_count": 20,
   "metadata": {},
   "outputs": [
    {
     "name": "stdout",
     "output_type": "stream",
     "text": "+-----+-------+---------+----------+----+-------------+--------+------+----------+-----------+----------+---------------+--------------------+--------------------+\n|owner|line_No|  orderNo|customerNo|type|         IWAN|quantity|amount|vat_amount|line_amount|VATpercent|bill_customerNo|           orderDate|         postingDate|\n+-----+-------+---------+----------+----+-------------+--------+------+----------+-----------+----------+---------------+--------------------+--------------------+\n|   IW|      3|ORD003892| KNR765310|   2|2534460662171|       1| 33.53|     39.90|      39.90|        19|      KNR765310|2010-05-11 00:00:...|2010-05-17 00:00:...|\n|   IW|      2|ORD003892| KNR765310|   2|2534160651495|       1| 33.53|     39.90|      39.90|        19|      KNR765310|2010-05-11 00:00:...|2010-05-17 00:00:...|\n|   IW|      1|ORD003892| KNR765310|   2|2534550694026|       1| 33.53|     39.90|      39.90|        19|      KNR765310|2010-05-11 00:00:...|2010-05-17 00:00:...|\n|   IW|      4|ORD003892| KNR765310|   2|2534460624759|       2| 41.93|     49.90|      99.80|        19|      KNR765310|2010-05-11 00:00:...|2010-05-17 00:00:...|\n|   IW|      5|ORD003895| KNR075310|   2|2534560660228|       1| 29.33|     34.90|      34.90|        19|      KNR075310|2010-05-11 00:00:...|2010-05-17 00:00:...|\n+-----+-------+---------+----------+----+-------------+--------+------+----------+-----------+----------+---------------+--------------------+--------------------+\nonly showing top 5 rows\n\n+-----+---------+----------+---------------+--------+---------+-------------+----+------------+------------+---------------+-----------+--------------------+--------------------+\n|owner| returnNo|customerNo|bill_customerNo|quantity|unitPrice|         IWAN|type|returnReason|productGroup|vat_line_amount|line_amount|        shipmentDate|         postingDate|\n+-----+---------+----------+---------------+--------+---------+-------------+----+------------+------------+---------------+-----------+--------------------+--------------------+\n|   IW|Ret000150| KNR828010|      KNR828010|       1|    45.95|3208721387775|   2|       TOBIG|         251|          45.95|      38.61|2010-05-19 00:00:...|2010-05-19 00:00:...|\n|   IW|Ret000150| KNR828010|      KNR828010|       1|     3.95|         5000|   1|         n/a|        NULL|           3.95|       3.32|2010-05-02 00:00:...|2010-05-19 00:00:...|\n|   IW|Ret000151| KNR374010|      KNR374010|       1|     3.95|         5000|   1|         n/a|        NULL|           3.95|       3.32|2010-05-01 00:00:...|2010-05-19 00:00:...|\n|   IW|Ret000151| KNR374010|      KNR374010|       1|    99.90|2534360650782|   2|       OTHER|         215|          99.90|      83.95|2010-05-19 00:00:...|2010-05-19 00:00:...|\n|   IW|Ret000152| KNR413010|      KNR413010|       1|    59.90|2534560669085|   2|    DONTLIKE|         218|          59.90|      50.33|2010-05-19 00:00:...|2010-05-19 00:00:...|\n+-----+---------+----------+---------------+--------+---------+-------------+----+------------+------------+---------------+-----------+--------------------+--------------------+\nonly showing top 5 rows\n\n"
    }
   ],
   "source": [
    "df_s.show(5)\n",
    "df_r.show(5)"
   ]
  },
  {
   "cell_type": "markdown",
   "metadata": {},
   "source": [
    "## 12. Gruppieren Sie die Umsätze des Jahres 2011 je Monat und stellen Sie diese in einem Balkendiagramm dar. Die Spalte orderDate ist für die Feststellung des Bestelldatumszu verwenden"
   ]
  },
  {
   "cell_type": "code",
   "execution_count": 29,
   "metadata": {
    "collapsed": false,
    "jupyter": {
     "outputs_hidden": false
    }
   },
   "outputs": [
    {
     "name": "stderr",
     "output_type": "stream",
     "text": "                                                                                \r"
    },
    {
     "name": "stdout",
     "output_type": "stream",
     "text": "+----------------+------------------+\n|month(orderDate)|            Umsatz|\n+----------------+------------------+\n|               1|3049269.9599990244|\n|              12| 2457831.139998979|\n|               6|1874199.4999989704|\n|               3|2152750.2699987646|\n|               5| 2357247.499998723|\n|               9|1626960.0399994834|\n|               2| 2423543.729998908|\n|               4|1754057.4299991522|\n|               8|2027927.6199983486|\n|               7|1898961.6099985344|\n|              10|2388400.1299991133|\n|              11| 2412094.329999134|\n+----------------+------------------+\n\n"
    },
    {
     "name": "stderr",
     "output_type": "stream",
     "text": "                                                                                \r"
    },
    {
     "data": {
      "text/plain": "<AxesSubplot:title={'center':'Umsatz im Jahr 2011'}, xlabel='month(orderDate)'>"
     },
     "execution_count": 29,
     "metadata": {},
     "output_type": "execute_result"
    },
    {
     "data": {
      "image/png": "[encoded data removed]",
      "text/plain": "<Figure size 432x288 with 1 Axes>"
     },
     "metadata": {
      "needs_background": "light"
     },
     "output_type": "display_data"
    }
   ],
   "source": [
    "import pyspark.sql.types\n",
    "import pyspark.sql.functions as sf\n",
    "\n",
    "df_s = df_s.withColumn(\"line_amount\", df_s.line_amount.cast('double'))\n",
    "\n",
    "df_sales_2011 = df_s.filter(sf.year('orderdate') == 2011)\n",
    "\n",
    "df_spm_2011 = df_sales_2011.groupby(sf.month('orderDate')).agg(sf.sum('line_amount').alias('Umsatz'))\n",
    "df_spm_2011.show()\n",
    "\n",
    "df_spm_pandas = df_spm_2011.toPandas()\n",
    "\n",
    "df_spm_pandas.plot.bar(x='month(orderDate)', title='Umsatz im Jahr 2011', )\n",
    "\n"
   ]
  },
  {
   "cell_type": "markdown",
   "metadata": {},
   "source": [
    "## 13. Wie viele Bestellungen (Note: Es kann durchaus mehrere Bestellpositionen zu einer Bestellung geben, jede Bestellung ist eindeutig durch die Spalte orderNo) je Kunden gibt es durchschnittlich?"
   ]
  },
  {
   "cell_type": "code",
   "execution_count": 22,
   "metadata": {},
   "outputs": [
    {
     "name": "stderr",
     "output_type": "stream",
     "text": "[Stage 66:=============================>                            (2 + 2) / 4]\r"
    },
    {
     "name": "stdout",
     "output_type": "stream",
     "text": "+----------------------------------------+\n|Durchschnittliche_Bestellungen_pro_Kunde|\n+----------------------------------------+\n|                                   12.13|\n+----------------------------------------+\n\n"
    },
    {
     "name": "stderr",
     "output_type": "stream",
     "text": "                                                                                \r"
    }
   ],
   "source": [
    "from pyspark.sql.types import *\n",
    "from pyspark.sql.functions import avg\n",
    "\n",
    "df_s.createOrReplaceTempView(\"sales\") # Register the DataFrame as a SQL temporary view\n",
    "\n",
    "sqlDF = spark.sql(\"SELECT round(avg(count),2) as Durchschnittliche_Bestellungen_pro_Kunde FROM (SELECT DISTINCT count(orderNO) as count FROM sales group by customerNo)\")\n",
    "sqlDF.show()"
   ]
  },
  {
   "cell_type": "markdown",
   "metadata": {},
   "source": [
    "## 14  Was ist die durchschnittliche Anzahl an Bestellpositionen und der durchschnittliche Gesamtbetrag einer Bestellung über alle Kunden?"
   ]
  },
  {
   "cell_type": "code",
   "execution_count": 23,
   "metadata": {
    "collapsed": false,
    "jupyter": {
     "outputs_hidden": false
    }
   },
   "outputs": [
    {
     "name": "stderr",
     "output_type": "stream",
     "text": "                                                                                \r"
    },
    {
     "name": "stdout",
     "output_type": "stream",
     "text": "+----------+----------------+------------------+\n|customerNo|amount_of_orders|     sum_of_orders|\n+----------+----------------+------------------+\n| KNR918710|               7|342.54999999999995|\n| KNR896410|               4|            203.65|\n| KNR208610|               5|            143.75|\n| KNR278610|               2|            132.95|\n| KNR876310|               2|             63.85|\n| KNR688410|               2|             43.85|\n| KNR945110|               6|373.45000000000005|\n| KNR809310|               3|            138.75|\n| KNR362710|               3|222.85000000000002|\n| KNR903710|               5|            168.55|\n| KNR183710|               3|            103.75|\n| KNR712810|               2|             43.85|\n| KNR806110|               2|            202.95|\n| KNR763710|               4|            222.75|\n| KNR105510|               4|            450.95|\n| KNR319210|               5|198.54999999999998|\n| KNR874810|               5|             229.6|\n| KNR045810|               3|            143.75|\n| KNR512310|               4|253.70000000000002|\n| KNR649110|              24| 593.7999999999997|\n+----------+----------------+------------------+\nonly showing top 20 rows\n\n"
    },
    {
     "name": "stderr",
     "output_type": "stream",
     "text": "[Stage 79:>                                                         (0 + 4) / 4]\r"
    },
    {
     "name": "stdout",
     "output_type": "stream",
     "text": "+---------------------+------------------+\n|avg(amount_of_orders)|avg(sum_of_orders)|\n+---------------------+------------------+\n|   3.3129945560884786| 188.6010749397632|\n+---------------------+------------------+\n\n"
    },
    {
     "name": "stderr",
     "output_type": "stream",
     "text": "                                                                                \r"
    }
   ],
   "source": [
    "df_sales_per_customer = df_s.groupby('customerNo').agg(sf.count('orderNo').alias('amount_of_orders'), sf.sum('line_amount').alias(\"sum_of_orders\"))\n",
    "df_sales_per_customer.show()\n",
    "\n",
    "mean_sales_and_spend = df_sales_per_customer.agg(sf.mean('amount_of_orders'), sf.mean('sum_of_orders'))\n",
    "mean_sales_and_spend.show()"
   ]
  },
  {
   "cell_type": "markdown",
   "metadata": {},
   "source": [
    "## 15. Ermitteln Sie die Anzahl der Bestellpositionen und die Anzahl der retournierten Positionen je Bundesland. Die Kundenadresse ist hier als Ort der Bestellung anzunehmen. Bestimmen Sie anschließend die Retourenquote (= Anzahl an Retourenpositionen / Anzahl an Bestellpositionen)\n"
   ]
  },
  {
   "cell_type": "code",
   "execution_count": 24,
   "metadata": {},
   "outputs": [
    {
     "name": "stderr",
     "output_type": "stream",
     "text": "[Stage 89:>                                                         (0 + 4) / 5]\r"
    },
    {
     "name": "stdout",
     "output_type": "stream",
     "text": "+--------------------+-----+\n|               state|sales|\n+--------------------+-----+\n|      Sachsen-Anhalt| 5518|\n|       Niedersachsen|30009|\n|         Brandenburg| 4686|\n|              Berlin|14260|\n|              Bayern|64903|\n|             Sachsen| 9939|\n|             Hamburg|10643|\n|              Bremen| 2351|\n| Nordrhein-Westfalen|73002|\n|           Thüringen| 5907|\n|              Hessen|31694|\n|   Baden-Württemberg|52650|\n|Mecklenburg-Vorpo...| 4474|\n|            Saarland| 2320|\n|  Schleswig-Holstein|12050|\n|     Rheinland-Pfalz|16906|\n+--------------------+-----+\n\n"
    },
    {
     "name": "stderr",
     "output_type": "stream",
     "text": "                                                                                \r"
    }
   ],
   "source": [
    "sales_withCustomers = uniqueCustomers.join(df_s,'customerNo', 'left')\n",
    "position_per_state = sales_withCustomers.groupby('state').agg(sf.count('orderNo').alias('sales'))\n",
    "position_per_state.show()\n"
   ]
  },
  {
   "cell_type": "code",
   "execution_count": 25,
   "metadata": {},
   "outputs": [
    {
     "name": "stderr",
     "output_type": "stream",
     "text": "[Stage 107:============================>                            (2 + 2) / 4]\r"
    },
    {
     "name": "stdout",
     "output_type": "stream",
     "text": "+--------------------+-------+\n|               state|returns|\n+--------------------+-------+\n|      Sachsen-Anhalt|   2175|\n|       Niedersachsen|  12056|\n|         Brandenburg|   1779|\n|              Berlin|   6467|\n|              Bayern|  25676|\n|             Sachsen|   4129|\n|             Hamburg|   3839|\n|              Bremen|    842|\n| Nordrhein-Westfalen|  27622|\n|           Thüringen|   2533|\n|              Hessen|  12179|\n|   Baden-Württemberg|  21096|\n|Mecklenburg-Vorpo...|   1734|\n|            Saarland|    941|\n|  Schleswig-Holstein|   4486|\n|     Rheinland-Pfalz|   6724|\n+--------------------+-------+\n\n"
    },
    {
     "name": "stderr",
     "output_type": "stream",
     "text": "                                                                                \r"
    }
   ],
   "source": [
    "df_return = spark.read.csv(\"gs://dataproc-staging-europe-west1-908939104126-4c7em3li/data/webshop/iw_return_line.txt\", sep=\"\\t\", header=True)\n",
    "\n",
    "df_return_customer = uniqueCustomers.join(df_return,'customerNo', 'left')\n",
    "df_return_customer.count()\n",
    "df_return_per_state = df_return_customer.groupby('state').agg(sf.count('returnNo').alias('returns'))\n",
    "df_return_per_state.show()"
   ]
  },
  {
   "cell_type": "code",
   "execution_count": 26,
   "metadata": {},
   "outputs": [
    {
     "name": "stderr",
     "output_type": "stream",
     "text": "                                                                                \r"
    },
    {
     "name": "stdout",
     "output_type": "stream",
     "text": "+--------------------+-------+-----+-------------------+\n|               state|returns|sales|              ratio|\n+--------------------+-------+-----+-------------------+\n|      Sachsen-Anhalt|   2170| 5619| 0.3861897134721481|\n|       Niedersachsen|  12091|29990| 0.4031677225741914|\n|         Brandenburg|   1776| 4674|0.37997432605905007|\n|              Berlin|   6483|14198| 0.4566136075503592|\n|              Bayern|  25779|64845| 0.3975479990747166|\n|             Sachsen|   4125| 9968| 0.4138242375601926|\n|             Hamburg|   3824|10641|0.35936472136077435|\n|              Bremen|    848| 2356| 0.3599320882852292|\n| Nordrhein-Westfalen|  27701|72977|0.37958534880852873|\n|           Thüringen|   2546| 5950|0.42789915966386555|\n|              Hessen|  12158|31563|0.38519785825175046|\n|   Baden-Württemberg|  21004|52679| 0.3987167562026614|\n|Mecklenburg-Vorpo...|   1740| 4509|0.38589487691284097|\n|            Saarland|    939| 2345| 0.4004264392324094|\n|  Schleswig-Holstein|   4458|12015| 0.3710362047440699|\n|     Rheinland-Pfalz|   6705|16815|0.39875111507582517|\n+--------------------+-------+-----+-------------------+\n\n"
    }
   ],
   "source": [
    "df_ratio = df_return_per_state.join(position_per_state, 'state', 'left')\n",
    "df_ratio = df_ratio.withColumn('ratio', col('returns') / col('sales')) \n",
    "df_ratio.show()"
   ]
  }
 ],
 "metadata": {
  "kernelspec": {
   "display_name": "PySpark",
   "language": "python",
   "name": "pyspark"
  },
  "language_info": {
   "codemirror_mode": {
    "name": "ipython",
    "version": 3
   },
   "file_extension": ".py",
   "mimetype": "text/x-python",
   "name": "python",
   "nbconvert_exporter": "python",
   "pygments_lexer": "ipython3",
   "version": "3.8.13"
  }
 },
 "nbformat": 4,
 "nbformat_minor": 4
}
