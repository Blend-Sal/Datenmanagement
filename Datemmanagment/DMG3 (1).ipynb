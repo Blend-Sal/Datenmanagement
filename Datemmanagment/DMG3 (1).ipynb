{
 "cells": [
  {
   "cell_type": "markdown",
   "source": [
    "# a)\n",
    "Trainieren Sie auf den Daten aus email_body.csv einen NaiveBayes Klassifikator.\n",
    "Ermitteln der a priori und bedingten Wahrscheinlichkeiten.\n",
    "Ermitteln von a posteriori Wahrscheinlichkeiten für Spam, kein Spam.\n",
    "\n",
    "Dünnbesetzte Matrix\n",
    "->  jede Reihe referenziert auf eine E-Mail, während eine Spalte auf ein Wort referenziert;\n",
    "    je Zelle sind dann die Anzahl der Vorkommnisse der Wörter vermerkt."
   ],
   "metadata": {
    "collapsed": false
   }
  },
  {
   "cell_type": "code",
   "execution_count": 153,
   "outputs": [
    {
     "name": "stdout",
     "output_type": "stream",
     "text": [
      "Accuracy: 0.9833333333333333\n",
      "F1 Score: 0.9456521739130435\n",
      "\n",
      "Spam_E-Mails im Testset: 95\n",
      "Nicht-Spam_E-Mails im Testset: 505\n",
      "Spam-E-Mails im Trainingsset: 405\n",
      "Nicht-Spam-E-Mails im Trainingsset: 1995\n",
      "\n",
      "Logarithmus der a posteriori Wahrscheinlichkeit für Spam: -156.11531405275807\n",
      "Logarithmus der a posteriori Wahrscheinlichkeit für kein Spam: -145.6917898434386\n",
      "A priori Wahrscheinlichkeit für Spam: 0.1687499999999999\n",
      "A priori Wahrscheinlichkeit für kein Spam: 0.8312500000000003\n",
      "Logarithmus der bedingten Wahrscheinlichkeiten für Spam:\n",
      "number: -3.0158\n",
      "url: -5.1168\n",
      "hyperlink: -5.2416\n",
      "free: -5.2892\n",
      "money: -5.4912\n",
      "email: -5.6705\n",
      "mail: -5.7096\n",
      "business: -5.8766\n",
      "list: -5.8892\n",
      "click: -5.9215\n",
      "-------------------------------------\n",
      "Logarithmus der bedingten Wahrscheinlichkeiten für Kein Spam:\n",
      "number: -2.7316\n",
      "url: -4.0580\n",
      "list: -5.2512\n",
      "just: -5.6529\n",
      "use: -5.7015\n",
      "com: -5.7212\n",
      "like: -5.7606\n",
      "new: -5.8763\n",
      "people: -5.8789\n",
      "time: -5.9238\n",
      "\n",
      "Klassifizierung: Kein Spam\n"
     ]
    }
   ],
   "source": [
    "import pandas as pd\n",
    "from sklearn.feature_extraction.text import CountVectorizer\n",
    "from sklearn.model_selection import train_test_split\n",
    "from sklearn.naive_bayes import MultinomialNB\n",
    "from sklearn.metrics import accuracy_score, f1_score, classification_report\n",
    "import numpy as np\n",
    "\n",
    "#Daten einlesen\n",
    "df = pd.read_csv(\"email_body.csv\")\n",
    "df['body'] = df['body'].fillna(\"\")\n",
    "\n",
    "#Vektorisierung der E-Mail-Texte\n",
    "vectorizer = CountVectorizer(stop_words=\"english\")\n",
    "X = vectorizer.fit_transform(df[\"body\"])\n",
    "X_sparse = X.toarray()\n",
    "\n",
    "#Aufteilen der Daten in Trainings- und Testdatensätze\n",
    "X_train, X_test, y_train, y_test = train_test_split(X_sparse, df[\"label\"], test_size=0.2, random_state=5)\n",
    "\n",
    "#Naive Bayes-Klassifikator trainieren\n",
    "clf = MultinomialNB()\n",
    "clf.fit(X_train, y_train)\n",
    "\n",
    "#Vorhersagen auf Testdaten treffen und Metriken berechnen\n",
    "y_pred = clf.predict(X_test)\n",
    "nb_accuracy = accuracy_score(y_test, y_pred)\n",
    "nb_f1 = f1_score(y_test, y_pred, average=\"binary\")\n",
    "\n",
    "print(\"Accuracy:\", nb_accuracy)\n",
    "print(\"F1 Score:\", nb_f1)\n",
    "\n",
    "def log_posterior_probabilities(clf, X):\n",
    "    log_prob_spam = X.dot(clf.feature_log_prob_[1]) + clf.class_log_prior_[1]\n",
    "    log_prob_ham = X.dot(clf.feature_log_prob_[0]) + clf.class_log_prior_[0]\n",
    "    return log_prob_spam, log_prob_ham\n",
    "\n",
    "def print_conditional_probabilities(vectorizer, log_class_probabilities, class_name):\n",
    "    #Abrufen der Feature-Namen (Wörter) aus dem Vektorisierer\n",
    "    feature_names = vectorizer.get_feature_names_out()\n",
    "\n",
    "    #Kombinieren der Wörter und ihrer bedingten Wahrscheinlichkeiten\n",
    "    word_probabilities = zip(feature_names, log_class_probabilities)\n",
    "\n",
    "    #Sortieren der Wörter nach ihren bedingten Wahrscheinlichkeiten\n",
    "    sorted_word_probabilities = sorted(word_probabilities, key=lambda x: x[1], reverse=True)\n",
    "\n",
    "    print(f\"Logarithmus der bedingten Wahrscheinlichkeiten für {class_name}:\")\n",
    "    for word, probability in sorted_word_probabilities[:10]:\n",
    "        print(f\"{word}: {probability:.4f}\")\n",
    "\n",
    "\n",
    "#Berechnung der Logarithmen der a posteriori Wahrscheinlichkeiten für ein Beispiel aus den Testdaten\n",
    "example_idx = 12\n",
    "log_prob_spam, log_prob_ham = log_posterior_probabilities(clf, X_test[example_idx])\n",
    "\n",
    "train_spam_emails = np.sum(y_train == 1)\n",
    "train_non_spam_emails = np.sum(y_train == 0)\n",
    "\n",
    "test_spam_emails = np.sum(y_test == 1)\n",
    "test_non_spam_emails = np.sum(y_test == 0)\n",
    "print(f\"\\nSpam_E-Mails im Testset: {test_spam_emails}\")\n",
    "print(f\"Nicht-Spam_E-Mails im Testset: {test_non_spam_emails}\")\n",
    "print(f\"Spam-E-Mails im Trainingsset: {train_spam_emails}\")\n",
    "print(f\"Nicht-Spam-E-Mails im Trainingsset: {train_non_spam_emails}\\n\")\n",
    "\n",
    "print(\"Logarithmus der a posteriori Wahrscheinlichkeit für Spam:\", log_prob_spam)\n",
    "print(\"Logarithmus der a posteriori Wahrscheinlichkeit für kein Spam:\", log_prob_ham)\n",
    "\n",
    "#a priori Wahrscheinlichkeiten\n",
    "prior_prob_spam = np.exp(clf.class_log_prior_[1])\n",
    "prior_prob_ham = np.exp(clf.class_log_prior_[0])\n",
    "\n",
    "#bedingte Wahrscheinlichkeiten\n",
    "conditional_prob_spam = np.exp(clf.feature_log_prob_[1])\n",
    "conditional_prob_ham = np.exp(clf.feature_log_prob_[0])\n",
    "\n",
    "\n",
    "print(\"A priori Wahrscheinlichkeit für Spam:\", prior_prob_spam)\n",
    "print(\"A priori Wahrscheinlichkeit für kein Spam:\", prior_prob_ham)\n",
    "\n",
    "print_conditional_probabilities(vectorizer, clf.feature_log_prob_[1], \"Spam\")\n",
    "print(\"-------------------------------------\")\n",
    "print_conditional_probabilities(vectorizer, clf.feature_log_prob_[0], \"Kein Spam\")\n",
    "def classify(log_prob_spam, log_prob_ham):\n",
    "    if log_prob_spam > log_prob_ham:\n",
    "        return \"Spam\"\n",
    "    else:\n",
    "        return \"Kein Spam\"\n",
    "\n",
    "classification = classify(log_prob_spam, log_prob_ham)\n",
    "print(\"\\nKlassifizierung:\", classification)"
   ],
   "metadata": {
    "collapsed": false,
    "ExecuteTime": {
     "start_time": "2023-06-20T15:57:06.220478Z",
     "end_time": "2023-06-20T15:57:09.185977Z"
    }
   }
  },
  {
   "cell_type": "markdown",
   "source": [
    "# b)\n",
    "Zwei neue sinnvolle Merkmale auf Basis der Textdaten in email_body.csv\n",
    "und Ergänzung von email_headers.csv."
   ],
   "metadata": {
    "collapsed": false
   }
  },
  {
   "cell_type": "code",
   "execution_count": 154,
   "outputs": [
    {
     "data": {
      "text/plain": "                                                   body  label  \\\n0     Date:        Wed, NUMBER Aug NUMBER NUMBER:NUM...      0   \n1     Martin A posted:\\nTassos Papadopoulos, the Gre...      0   \n2     Man Threatens Explosion In Moscow \\n\\nThursday...      0   \n3     Klez: The Virus That Won't Die\\n \\nAlready the...      0   \n4     >  in adding cream to spaghetti carbonara, whi...      0   \n...                                                 ...    ...   \n2995  ABC's Good Morning America ranks it the #NUMBE...      1   \n2996  HYPERLINK\\n           HYPERLINK\\n       HYPERL...      1   \n2997  THANK YOU FOR SHOPPING WITH US\\nGIFTS FOR ALL ...      1   \n2998  The\\n            Famous\\n            eBay Mark...      1   \n2999  (Hello,This is Chinese Traditional)\\n��子�]件 ――...      1   \n\n      uppercase_to_all_characters_ratio  \n0                              0.053044  \n1                              0.044632  \n2                              0.053974  \n3                              0.051088  \n4                              0.038988  \n...                                 ...  \n2995                           0.078947  \n2996                           0.083481  \n2997                           0.180667  \n2998                           0.058641  \n2999                           0.116129  \n\n[3000 rows x 3 columns]",
      "text/html": "<div>\n<style scoped>\n    .dataframe tbody tr th:only-of-type {\n        vertical-align: middle;\n    }\n\n    .dataframe tbody tr th {\n        vertical-align: top;\n    }\n\n    .dataframe thead th {\n        text-align: right;\n    }\n</style>\n<table border=\"1\" class=\"dataframe\">\n  <thead>\n    <tr style=\"text-align: right;\">\n      <th></th>\n      <th>body</th>\n      <th>label</th>\n      <th>uppercase_to_all_characters_ratio</th>\n    </tr>\n  </thead>\n  <tbody>\n    <tr>\n      <th>0</th>\n      <td>Date:        Wed, NUMBER Aug NUMBER NUMBER:NUM...</td>\n      <td>0</td>\n      <td>0.053044</td>\n    </tr>\n    <tr>\n      <th>1</th>\n      <td>Martin A posted:\\nTassos Papadopoulos, the Gre...</td>\n      <td>0</td>\n      <td>0.044632</td>\n    </tr>\n    <tr>\n      <th>2</th>\n      <td>Man Threatens Explosion In Moscow \\n\\nThursday...</td>\n      <td>0</td>\n      <td>0.053974</td>\n    </tr>\n    <tr>\n      <th>3</th>\n      <td>Klez: The Virus That Won't Die\\n \\nAlready the...</td>\n      <td>0</td>\n      <td>0.051088</td>\n    </tr>\n    <tr>\n      <th>4</th>\n      <td>&gt;  in adding cream to spaghetti carbonara, whi...</td>\n      <td>0</td>\n      <td>0.038988</td>\n    </tr>\n    <tr>\n      <th>...</th>\n      <td>...</td>\n      <td>...</td>\n      <td>...</td>\n    </tr>\n    <tr>\n      <th>2995</th>\n      <td>ABC's Good Morning America ranks it the #NUMBE...</td>\n      <td>1</td>\n      <td>0.078947</td>\n    </tr>\n    <tr>\n      <th>2996</th>\n      <td>HYPERLINK\\n           HYPERLINK\\n       HYPERL...</td>\n      <td>1</td>\n      <td>0.083481</td>\n    </tr>\n    <tr>\n      <th>2997</th>\n      <td>THANK YOU FOR SHOPPING WITH US\\nGIFTS FOR ALL ...</td>\n      <td>1</td>\n      <td>0.180667</td>\n    </tr>\n    <tr>\n      <th>2998</th>\n      <td>The\\n            Famous\\n            eBay Mark...</td>\n      <td>1</td>\n      <td>0.058641</td>\n    </tr>\n    <tr>\n      <th>2999</th>\n      <td>(Hello,This is Chinese Traditional)\\n��子�]件 ――...</td>\n      <td>1</td>\n      <td>0.116129</td>\n    </tr>\n  </tbody>\n</table>\n<p>3000 rows × 3 columns</p>\n</div>"
     },
     "execution_count": 154,
     "metadata": {},
     "output_type": "execute_result"
    }
   ],
   "source": [
    "#Verhältnis zwischen Großbuchstaben und allen Zeichen\n",
    "import re\n",
    "\n",
    "def count_uppercase(email):\n",
    "    if not isinstance(email, str):\n",
    "        return 0\n",
    "    uppercase_count = 0\n",
    "    number_count = len(re.findall(r'NUMBER', email))\n",
    "    for char in email:\n",
    "        if char.isupper():\n",
    "            uppercase_count += 1\n",
    "    return uppercase_count - (number_count * 5)\n",
    "\n",
    "def ratio_uppercase_to_all_characters(email):\n",
    "    uppercase_count = count_uppercase(email)\n",
    "    total_characters = len(email) if isinstance(email, str) else 0\n",
    "\n",
    "    if total_characters == 0:\n",
    "        return 0\n",
    "    else:\n",
    "        return uppercase_count / total_characters\n",
    "\n",
    "df['uppercase_to_all_characters_ratio'] = df['body'].apply(ratio_uppercase_to_all_characters)\n",
    "df"
   ],
   "metadata": {
    "collapsed": false,
    "ExecuteTime": {
     "start_time": "2023-06-20T15:57:09.188981Z",
     "end_time": "2023-06-20T15:57:09.437979Z"
    }
   }
  },
  {
   "cell_type": "code",
   "execution_count": 155,
   "outputs": [
    {
     "data": {
      "text/plain": "                                           From  \\\n0                Robert Elz <kre@munnari.OZ.AU>   \n1     Steve Burt <Steve_Burt@cursor-system.com>   \n2                   Tim Chapman <timc@2ubh.com>   \n3              Monty Solomon <monty@roscom.com>   \n4     Stewart Smith <Stewart.Smith@ee.ed.ac.uk>   \n...                                         ...   \n2995             Rob <yelanotyami912@bot.or.th>   \n2996                       bolttish@hotmail.com   \n2997     Mary's Store <removeme@marysstore.com>   \n2998            eBayInternetMarketing@yahoo.com   \n2999                             email@hkem.com   \n\n                                           Content-Type  \\\n0                        text/plain; charset=\"us-ascii\"   \n1                        text/plain; charset=\"US-ASCII\"   \n2                        text/plain; charset=\"US-ASCII\"   \n3                        text/plain; charset=\"us-ascii\"   \n4                        text/plain; charset=\"US-ASCII\"   \n...                                                 ...   \n2995                    text/html; charset=\"iso-8859-1\"   \n2996                    text/html; charset=\"iso-8859-1\"   \n2997  multipart/related; boundary=\"----=_NextPart_OO...   \n2998                    text/html; charset=\"iso-8859-1\"   \n2999                        text/html; charset=\"GB2312\"   \n\n                                                Subject  \\\n0                              Re: New Sequences Window   \n1                             [zzzzteana] RE: Alexander   \n2                             [zzzzteana] Moscow bomber   \n3                 [IRR] Klez: The Virus That  Won't Die   \n4        Re: [zzzzteana] Nothing like mama used to make   \n...                                                 ...   \n2995                                              hurry   \n2996  Do you need a second MORTGAGE?                ...   \n2997                                                NaN   \n2998                         Earn Your Fortune on eBay!   \n2999                                 HK Email marking !   \n\n                                                     To  \\\n0     Chris Garrigues <cwg-dated-1030377287.06fa6d@D...   \n1     \"'zzzzteana@yahoogroups.com'\" <zzzzteana@yahoo...   \n2                 zzzzteana <zzzzteana@yahoogroups.com>   \n3                               undisclosed-recipient:;   \n4                             zzzzteana@yahoogroups.com   \n...                                                 ...   \n2995                                    yyyy@neteze.com   \n2996                                webmaster@ehlaw.com   \n2997                                yyyy@netnoteinc.com   \n2998                                   webmaster@efi.ie   \n2999                        yyyy@spamassassin.taint.org   \n\n                          Organization  \\\n0                                  NaN   \n1                                  NaN   \n2                                  NaN   \n3                                  NaN   \n4     Scottish Microelectronics Centre   \n...                                ...   \n2995                               NaN   \n2996                               NaN   \n2997                               NaN   \n2998                               NaN   \n2999                               NaN   \n\n                                             User-Agent  Attachement  \\\n0                                                   NaN            0   \n1                                                   NaN            0   \n2                                                   NaN            0   \n3                                                   NaN            0   \n4     Mozilla/5.0 (X11; U; SunOS sun4u; en-US; rv:1....            0   \n...                                                 ...          ...   \n2995                                                NaN            0   \n2996                                                NaN            0   \n2997                                                NaN            1   \n2998                                                NaN            0   \n2999                                                NaN            0   \n\n      uppercase_to_all_characters_ratio  excl_marks  label  \n0                              0.053044           0      0  \n1                              0.044632           2      0  \n2                              0.053974           2      0  \n3                              0.051088           0      0  \n4                              0.038988           2      0  \n...                                 ...         ...    ...  \n2995                           0.078947           5      1  \n2996                           0.083481           0      1  \n2997                           0.180667           0      1  \n2998                           0.058641           7      1  \n2999                           0.116129           0      1  \n\n[3000 rows x 10 columns]",
      "text/html": "<div>\n<style scoped>\n    .dataframe tbody tr th:only-of-type {\n        vertical-align: middle;\n    }\n\n    .dataframe tbody tr th {\n        vertical-align: top;\n    }\n\n    .dataframe thead th {\n        text-align: right;\n    }\n</style>\n<table border=\"1\" class=\"dataframe\">\n  <thead>\n    <tr style=\"text-align: right;\">\n      <th></th>\n      <th>From</th>\n      <th>Content-Type</th>\n      <th>Subject</th>\n      <th>To</th>\n      <th>Organization</th>\n      <th>User-Agent</th>\n      <th>Attachement</th>\n      <th>uppercase_to_all_characters_ratio</th>\n      <th>excl_marks</th>\n      <th>label</th>\n    </tr>\n  </thead>\n  <tbody>\n    <tr>\n      <th>0</th>\n      <td>Robert Elz &lt;kre@munnari.OZ.AU&gt;</td>\n      <td>text/plain; charset=\"us-ascii\"</td>\n      <td>Re: New Sequences Window</td>\n      <td>Chris Garrigues &lt;cwg-dated-1030377287.06fa6d@D...</td>\n      <td>NaN</td>\n      <td>NaN</td>\n      <td>0</td>\n      <td>0.053044</td>\n      <td>0</td>\n      <td>0</td>\n    </tr>\n    <tr>\n      <th>1</th>\n      <td>Steve Burt &lt;Steve_Burt@cursor-system.com&gt;</td>\n      <td>text/plain; charset=\"US-ASCII\"</td>\n      <td>[zzzzteana] RE: Alexander</td>\n      <td>\"'zzzzteana@yahoogroups.com'\" &lt;zzzzteana@yahoo...</td>\n      <td>NaN</td>\n      <td>NaN</td>\n      <td>0</td>\n      <td>0.044632</td>\n      <td>2</td>\n      <td>0</td>\n    </tr>\n    <tr>\n      <th>2</th>\n      <td>Tim Chapman &lt;timc@2ubh.com&gt;</td>\n      <td>text/plain; charset=\"US-ASCII\"</td>\n      <td>[zzzzteana] Moscow bomber</td>\n      <td>zzzzteana &lt;zzzzteana@yahoogroups.com&gt;</td>\n      <td>NaN</td>\n      <td>NaN</td>\n      <td>0</td>\n      <td>0.053974</td>\n      <td>2</td>\n      <td>0</td>\n    </tr>\n    <tr>\n      <th>3</th>\n      <td>Monty Solomon &lt;monty@roscom.com&gt;</td>\n      <td>text/plain; charset=\"us-ascii\"</td>\n      <td>[IRR] Klez: The Virus That  Won't Die</td>\n      <td>undisclosed-recipient:;</td>\n      <td>NaN</td>\n      <td>NaN</td>\n      <td>0</td>\n      <td>0.051088</td>\n      <td>0</td>\n      <td>0</td>\n    </tr>\n    <tr>\n      <th>4</th>\n      <td>Stewart Smith &lt;Stewart.Smith@ee.ed.ac.uk&gt;</td>\n      <td>text/plain; charset=\"US-ASCII\"</td>\n      <td>Re: [zzzzteana] Nothing like mama used to make</td>\n      <td>zzzzteana@yahoogroups.com</td>\n      <td>Scottish Microelectronics Centre</td>\n      <td>Mozilla/5.0 (X11; U; SunOS sun4u; en-US; rv:1....</td>\n      <td>0</td>\n      <td>0.038988</td>\n      <td>2</td>\n      <td>0</td>\n    </tr>\n    <tr>\n      <th>...</th>\n      <td>...</td>\n      <td>...</td>\n      <td>...</td>\n      <td>...</td>\n      <td>...</td>\n      <td>...</td>\n      <td>...</td>\n      <td>...</td>\n      <td>...</td>\n      <td>...</td>\n    </tr>\n    <tr>\n      <th>2995</th>\n      <td>Rob &lt;yelanotyami912@bot.or.th&gt;</td>\n      <td>text/html; charset=\"iso-8859-1\"</td>\n      <td>hurry</td>\n      <td>yyyy@neteze.com</td>\n      <td>NaN</td>\n      <td>NaN</td>\n      <td>0</td>\n      <td>0.078947</td>\n      <td>5</td>\n      <td>1</td>\n    </tr>\n    <tr>\n      <th>2996</th>\n      <td>bolttish@hotmail.com</td>\n      <td>text/html; charset=\"iso-8859-1\"</td>\n      <td>Do you need a second MORTGAGE?                ...</td>\n      <td>webmaster@ehlaw.com</td>\n      <td>NaN</td>\n      <td>NaN</td>\n      <td>0</td>\n      <td>0.083481</td>\n      <td>0</td>\n      <td>1</td>\n    </tr>\n    <tr>\n      <th>2997</th>\n      <td>Mary's Store &lt;removeme@marysstore.com&gt;</td>\n      <td>multipart/related; boundary=\"----=_NextPart_OO...</td>\n      <td>NaN</td>\n      <td>yyyy@netnoteinc.com</td>\n      <td>NaN</td>\n      <td>NaN</td>\n      <td>1</td>\n      <td>0.180667</td>\n      <td>0</td>\n      <td>1</td>\n    </tr>\n    <tr>\n      <th>2998</th>\n      <td>eBayInternetMarketing@yahoo.com</td>\n      <td>text/html; charset=\"iso-8859-1\"</td>\n      <td>Earn Your Fortune on eBay!</td>\n      <td>webmaster@efi.ie</td>\n      <td>NaN</td>\n      <td>NaN</td>\n      <td>0</td>\n      <td>0.058641</td>\n      <td>7</td>\n      <td>1</td>\n    </tr>\n    <tr>\n      <th>2999</th>\n      <td>email@hkem.com</td>\n      <td>text/html; charset=\"GB2312\"</td>\n      <td>HK Email marking !</td>\n      <td>yyyy@spamassassin.taint.org</td>\n      <td>NaN</td>\n      <td>NaN</td>\n      <td>0</td>\n      <td>0.116129</td>\n      <td>0</td>\n      <td>1</td>\n    </tr>\n  </tbody>\n</table>\n<p>3000 rows × 10 columns</p>\n</div>"
     },
     "execution_count": 155,
     "metadata": {},
     "output_type": "execute_result"
    }
   ],
   "source": [
    "import pandas as pd\n",
    "\n",
    "headers = pd.read_csv(\"email_headers.csv\")\n",
    "\n",
    "df['uppercase_to_all_characters_ratio'] = df['body'].apply(ratio_uppercase_to_all_characters)\n",
    "\n",
    "df[\"excl_marks\"] = df[\"body\"].str.count(\"!\")\n",
    "\n",
    "extended_headers = pd.merge(headers, df[['uppercase_to_all_characters_ratio', \"excl_marks\", \"label\"]], left_index=True, right_index=True)\n",
    "\n",
    "extended_headers"
   ],
   "metadata": {
    "collapsed": false,
    "ExecuteTime": {
     "start_time": "2023-06-20T15:57:09.431478Z",
     "end_time": "2023-06-20T15:57:09.750478Z"
    }
   }
  },
  {
   "cell_type": "markdown",
   "source": [
    "# c)\n",
    "Trainieren eines ausgewählten Klassifikators auf den erweiterten Datensatz email_headers.csv"
   ],
   "metadata": {
    "collapsed": false
   }
  },
  {
   "cell_type": "code",
   "execution_count": 156,
   "outputs": [],
   "source": [
    "#Gewählter Klassifikator: Klassifikationsbaum\n",
    "from sklearn.model_selection import train_test_split\n",
    "from sklearn.feature_extraction.text import TfidfVectorizer\n",
    "\n",
    "vectorizer = TfidfVectorizer()\n",
    "X = extended_headers[[\"From\", \"Content-Type\", \"Subject\", \"To\", \"Organization\", \"User-Agent\", \"Attachement\",'uppercase_to_all_characters_ratio', \"excl_marks\"]]\n",
    "X_transformed = vectorizer.fit_transform(X.astype(str).sum(axis=1))"
   ],
   "metadata": {
    "collapsed": false,
    "ExecuteTime": {
     "start_time": "2023-06-20T15:57:09.693479Z",
     "end_time": "2023-06-20T15:57:09.876976Z"
    }
   }
  },
  {
   "cell_type": "markdown",
   "source": [
    "# d)\n",
    "Teilen der Datensätze in Trainingsdaten (80%) und Testdaten (20%) mittels\n",
    "der Methode sklearn.model_selection.train_test_split."
   ],
   "metadata": {
    "collapsed": false
   }
  },
  {
   "cell_type": "code",
   "execution_count": 157,
   "outputs": [],
   "source": [
    "x_train, x_test, y_train, y_test = train_test_split(X_transformed, extended_headers[\"label\"], test_size=0.2, random_state=5)"
   ],
   "metadata": {
    "collapsed": false,
    "ExecuteTime": {
     "start_time": "2023-06-20T15:57:09.805478Z",
     "end_time": "2023-06-20T15:57:09.876976Z"
    }
   }
  },
  {
   "cell_type": "code",
   "execution_count": 158,
   "outputs": [],
   "source": [
    "from sklearn.metrics import accuracy_score\n",
    "from sklearn.tree import DecisionTreeClassifier\n",
    "\n",
    "tree_clf = DecisionTreeClassifier(random_state=5, criterion='gini', max_depth=3)\n",
    "tree_clf.fit(x_train, y_train)\n",
    "y_pred_tree = tree_clf.predict(x_test)\n",
    "tree_accuracy = accuracy_score(y_test, y_pred_tree)\n",
    "tree_f1 = f1_score(y_test, y_pred_tree)"
   ],
   "metadata": {
    "collapsed": false,
    "ExecuteTime": {
     "start_time": "2023-06-20T15:57:09.813478Z",
     "end_time": "2023-06-20T15:57:09.926976Z"
    }
   }
  },
  {
   "cell_type": "markdown",
   "source": [
    "# e)\n",
    "Kombinieren der Klassifikatoren aus a) und c) zu einem übergeordneten Ensemble Klassifikator."
   ],
   "metadata": {
    "collapsed": false
   }
  },
  {
   "cell_type": "code",
   "execution_count": 159,
   "outputs": [],
   "source": [
    "from sklearn.ensemble import VotingClassifier\n",
    "naivebayes = MultinomialNB()\n",
    "decisiontree = DecisionTreeClassifier()\n",
    "voting_clf = VotingClassifier(estimators=[('naive_bayes', decisiontree), ('decision_tree', naivebayes)], voting='soft')\n",
    "voting_clf.fit(x_train, y_train)\n",
    "y_pred_ensemble = voting_clf.predict(x_test)\n",
    "ensemble_accuracy = accuracy_score(y_test, y_pred_ensemble)\n",
    "ensemble_f1 = f1_score(y_test, y_pred_ensemble)"
   ],
   "metadata": {
    "collapsed": false,
    "ExecuteTime": {
     "start_time": "2023-06-20T15:57:09.904481Z",
     "end_time": "2023-06-20T15:57:10.215478Z"
    }
   }
  },
  {
   "cell_type": "markdown",
   "source": [
    "# f)\n",
    "Vergleichen der einzelnen Klassifikatoren aus a) und c) mit dem Ensemble Klassifikator aus e)\n",
    "auf Basis von Trainings- und Testdaten. Nutzen Sie eine Evaluationsmetrik Ihrer Wahl."
   ],
   "metadata": {
    "collapsed": false
   }
  },
  {
   "cell_type": "code",
   "execution_count": 160,
   "outputs": [
    {
     "name": "stdout",
     "output_type": "stream",
     "text": [
      "Ensemble Klassifikator Genauigkeit: 0.9683333333333334\n",
      "Decision Tree Klassifikator Genauigkeit: 0.9083333333333333\n",
      "Naive Bayes Klassifikator Genauigkeit: 0.9833333333333333 \n",
      "\n",
      "Ensemble Klassifikator F1-Score: 0.8972972972972973\n",
      "Decision Tree Klassifikator F1-Score: 0.6357615894039735\n",
      "Naive Bayes Klassifikator F1-Score: 0.9456521739130435\n"
     ]
    }
   ],
   "source": [
    "print(f\"Ensemble Klassifikator Genauigkeit: {ensemble_accuracy}\")\n",
    "print(f\"Decision Tree Klassifikator Genauigkeit: {tree_accuracy}\")\n",
    "print(f\"Naive Bayes Klassifikator Genauigkeit: {nb_accuracy} \\n\")\n",
    "\n",
    "print(f\"Ensemble Klassifikator F1-Score: {ensemble_f1}\")\n",
    "print(f\"Decision Tree Klassifikator F1-Score: {tree_f1}\")\n",
    "print(f\"Naive Bayes Klassifikator F1-Score: {nb_f1}\")"
   ],
   "metadata": {
    "collapsed": false,
    "ExecuteTime": {
     "start_time": "2023-06-20T15:57:10.192980Z",
     "end_time": "2023-06-20T15:57:10.215978Z"
    }
   }
  },
  {
   "cell_type": "code",
   "execution_count": 160,
   "outputs": [],
   "source": [],
   "metadata": {
    "collapsed": false,
    "ExecuteTime": {
     "start_time": "2023-06-20T15:57:10.197477Z",
     "end_time": "2023-06-20T15:57:10.216477Z"
    }
   }
  }
 ],
 "metadata": {
  "kernelspec": {
   "display_name": "Python 3",
   "language": "python",
   "name": "python3"
  },
  "language_info": {
   "codemirror_mode": {
    "name": "ipython",
    "version": 2
   },
   "file_extension": ".py",
   "mimetype": "text/x-python",
   "name": "python",
   "nbconvert_exporter": "python",
   "pygments_lexer": "ipython2",
   "version": "2.7.6"
  }
 },
 "nbformat": 4,
 "nbformat_minor": 0
}
